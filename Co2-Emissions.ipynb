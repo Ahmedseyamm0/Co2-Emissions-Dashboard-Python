{
 "cells": [
  {
   "cell_type": "code",
   "execution_count": null,
   "id": "6961dc44-bec4-4a27-8f79-e46ba2ddf1dd",
   "metadata": {
    "tags": []
   },
   "outputs": [],
   "source": [
    "###importing packages\n",
    "\n",
    "import pandas as pd \n",
    "import numpy as np\n",
    "import panel as pn\n",
    "pn.extension('tabulator')\n",
    "\n",
    "import hvplot.pandas"
   ]
  },
  {
   "cell_type": "code",
   "execution_count": null,
   "id": "67c1d45e-b247-43d3-9e66-dc27fb561a85",
   "metadata": {
    "tags": []
   },
   "outputs": [],
   "source": [
    "#Reading the file\n",
    "df = pd.read_csv('https://raw.githubusercontent.com/owid/co2-data/master/owid-co2-data.csv')"
   ]
  },
  {
   "cell_type": "code",
   "execution_count": null,
   "id": "873d5b5f-b541-4c8a-9405-03dab8ca7ab2",
   "metadata": {
    "tags": []
   },
   "outputs": [],
   "source": [
    "df"
   ]
  },
  {
   "cell_type": "code",
   "execution_count": null,
   "id": "af380d8a-8a6f-457c-bbb3-006f189cd960",
   "metadata": {
    "tags": []
   },
   "outputs": [],
   "source": [
    "df[df['country'] == 'World']"
   ]
  },
  {
   "cell_type": "code",
   "execution_count": null,
   "id": "956ed5bf-6f5a-4b7c-90c8-fb9d6fd1658b",
   "metadata": {
    "tags": []
   },
   "outputs": [],
   "source": [
    "#Filling NAs with 0 , Creating a new column gdp per capita \n",
    "df= df.fillna(0)\n",
    "df['gdp_per_capita'] = np.where(df['population'] != 0, df['gdp'] / df['population'], 0)"
   ]
  },
  {
   "cell_type": "code",
   "execution_count": 43,
   "id": "897d966f-9d90-417b-a7b3-2b46b8009e54",
   "metadata": {
    "tags": []
   },
   "outputs": [],
   "source": [
    "#Making the data frame interactive\n",
    "idf = df.interactive()"
   ]
  },
  {
   "cell_type": "code",
   "execution_count": 28,
   "id": "51b91423-865e-41ea-86da-37853aec5bc0",
   "metadata": {
    "tags": []
   },
   "outputs": [
    {
     "data": {
      "text/plain": [
       "(1750, 2021)"
      ]
     },
     "execution_count": 28,
     "metadata": {},
     "output_type": "execute_result"
    }
   ],
   "source": [
    "#Identifying the minimum and maximum value of year column for the slider filter\n",
    "df['year'].min(), df['year'].max()"
   ]
  },
  {
   "cell_type": "code",
   "execution_count": 59,
   "id": "38e752d6-9a03-4503-9888-5a0b3b733cce",
   "metadata": {
    "tags": []
   },
   "outputs": [
    {
     "data": {},
     "metadata": {},
     "output_type": "display_data"
    },
    {
     "data": {
      "application/vnd.holoviews_exec.v0+json": "",
      "text/html": [
       "<div id='3660'>\n",
       "  <div class=\"bk-root\" id=\"1d2065b9-6f46-4f13-81a6-a5cd4bf321e7\" data-root-id=\"3660\"></div>\n",
       "</div>\n",
       "<script type=\"application/javascript\">(function(root) {\n",
       "  function embed_document(root) {\n",
       "    var docs_json = {\"48982801-02b9-47f3-82d4-666070ad9d92\":{\"defs\":[{\"extends\":null,\"module\":null,\"name\":\"ReactiveHTML1\",\"overrides\":[],\"properties\":[]},{\"extends\":null,\"module\":null,\"name\":\"FlexBox1\",\"overrides\":[],\"properties\":[{\"default\":\"flex-start\",\"kind\":null,\"name\":\"align_content\"},{\"default\":\"flex-start\",\"kind\":null,\"name\":\"align_items\"},{\"default\":\"row\",\"kind\":null,\"name\":\"flex_direction\"},{\"default\":\"wrap\",\"kind\":null,\"name\":\"flex_wrap\"},{\"default\":\"flex-start\",\"kind\":null,\"name\":\"justify_content\"}]},{\"extends\":null,\"module\":null,\"name\":\"GridStack1\",\"overrides\":[],\"properties\":[{\"default\":\"warn\",\"kind\":null,\"name\":\"mode\"},{\"default\":null,\"kind\":null,\"name\":\"ncols\"},{\"default\":null,\"kind\":null,\"name\":\"nrows\"},{\"default\":true,\"kind\":null,\"name\":\"allow_resize\"},{\"default\":true,\"kind\":null,\"name\":\"allow_drag\"},{\"default\":[],\"kind\":null,\"name\":\"state\"}]},{\"extends\":null,\"module\":null,\"name\":\"click1\",\"overrides\":[],\"properties\":[{\"default\":\"\",\"kind\":null,\"name\":\"terminal_output\"},{\"default\":\"\",\"kind\":null,\"name\":\"debug_name\"},{\"default\":0,\"kind\":null,\"name\":\"clears\"}]},{\"extends\":null,\"module\":null,\"name\":\"NotificationAreaBase1\",\"overrides\":[],\"properties\":[{\"default\":\"bottom-right\",\"kind\":null,\"name\":\"position\"},{\"default\":0,\"kind\":null,\"name\":\"_clear\"}]},{\"extends\":null,\"module\":null,\"name\":\"NotificationArea1\",\"overrides\":[],\"properties\":[{\"default\":[],\"kind\":null,\"name\":\"notifications\"},{\"default\":\"bottom-right\",\"kind\":null,\"name\":\"position\"},{\"default\":0,\"kind\":null,\"name\":\"_clear\"},{\"default\":[{\"background\":\"#ffc107\",\"icon\":{\"className\":\"fas fa-exclamation-triangle\",\"color\":\"white\",\"tagName\":\"i\"},\"type\":\"warning\"},{\"background\":\"#007bff\",\"icon\":{\"className\":\"fas fa-info-circle\",\"color\":\"white\",\"tagName\":\"i\"},\"type\":\"info\"}],\"kind\":null,\"name\":\"types\"}]},{\"extends\":null,\"module\":null,\"name\":\"Notification\",\"overrides\":[],\"properties\":[{\"default\":null,\"kind\":null,\"name\":\"background\"},{\"default\":3000,\"kind\":null,\"name\":\"duration\"},{\"default\":null,\"kind\":null,\"name\":\"icon\"},{\"default\":\"\",\"kind\":null,\"name\":\"message\"},{\"default\":null,\"kind\":null,\"name\":\"notification_type\"},{\"default\":false,\"kind\":null,\"name\":\"_destroyed\"}]},{\"extends\":null,\"module\":null,\"name\":\"TemplateActions1\",\"overrides\":[],\"properties\":[{\"default\":0,\"kind\":null,\"name\":\"open_modal\"},{\"default\":0,\"kind\":null,\"name\":\"close_modal\"}]},{\"extends\":null,\"module\":null,\"name\":\"MaterialTemplateActions1\",\"overrides\":[],\"properties\":[{\"default\":0,\"kind\":null,\"name\":\"open_modal\"},{\"default\":0,\"kind\":null,\"name\":\"close_modal\"}]}],\"roots\":{\"references\":[{\"attributes\":{\"end\":2021,\"margin\":[5,10,5,10],\"start\":1750,\"step\":5,\"title\":\"Years\",\"value\":1900},\"id\":\"3660\",\"type\":\"Slider\"},{\"attributes\":{\"client_comm_id\":\"286d1f20bc674466a4ac924d2a0fbed4\",\"comm_id\":\"b096be0fa6f04cb3807799c432fe59eb\",\"plot_id\":\"3660\"},\"id\":\"3661\",\"type\":\"panel.models.comm_manager.CommManager\"}],\"root_ids\":[\"3660\",\"3661\"]},\"title\":\"Bokeh Application\",\"version\":\"2.4.3\"}};\n",
       "    var render_items = [{\"docid\":\"48982801-02b9-47f3-82d4-666070ad9d92\",\"root_ids\":[\"3660\"],\"roots\":{\"3660\":\"1d2065b9-6f46-4f13-81a6-a5cd4bf321e7\"}}];\n",
       "    root.Bokeh.embed.embed_items_notebook(docs_json, render_items);\n",
       "    for (const render_item of render_items) {\n",
       "      for (const root_id of render_item.root_ids) {\n",
       "\tconst id_el = document.getElementById(root_id)\n",
       "\tif (id_el.children.length && (id_el.children[0].className === 'bk-root')) {\n",
       "\t  const root_el = id_el.children[0]\n",
       "\t  root_el.id = root_el.id + '-rendered'\n",
       "\t}\n",
       "      }\n",
       "    }\n",
       "  }\n",
       "  if (root.Bokeh !== undefined && root.Bokeh.Panel !== undefined && ( root['Tabulator'] !== undefined)) {\n",
       "    embed_document(root);\n",
       "  } else {\n",
       "    var attempts = 0;\n",
       "    var timer = setInterval(function(root) {\n",
       "      if (root.Bokeh !== undefined && root.Bokeh.Panel !== undefined && (root['Tabulator'] !== undefined)) {\n",
       "        clearInterval(timer);\n",
       "        embed_document(root);\n",
       "      } else if (document.readyState == \"complete\") {\n",
       "        attempts++;\n",
       "        if (attempts > 200) {\n",
       "          clearInterval(timer);\n",
       "          console.log(\"Bokeh: ERROR: Unable to run BokehJS code because BokehJS library is missing\");\n",
       "        }\n",
       "      }\n",
       "    }, 25, root)\n",
       "  }\n",
       "})(window);</script>"
      ],
      "text/plain": [
       "IntSlider(end=2021, name='Years', start=1750, step=5, value=1900)"
      ]
     },
     "execution_count": 59,
     "metadata": {
      "application/vnd.holoviews_exec.v0+json": {
       "id": "3660"
      }
     },
     "output_type": "execute_result"
    }
   ],
   "source": [
    "#Creating a year slider filter \n",
    "year_slider = pn.widgets.IntSlider(name='Years', start = 1750, end = 2021, step = 5, value = 1900)\n",
    "year_slider"
   ]
  },
  {
   "cell_type": "code",
   "execution_count": 52,
   "id": "350e108a-42ec-4227-93da-8d072c891c75",
   "metadata": {
    "tags": []
   },
   "outputs": [
    {
     "data": {},
     "metadata": {},
     "output_type": "display_data"
    },
    {
     "data": {
      "application/vnd.holoviews_exec.v0+json": "",
      "text/html": [
       "<div id='1118'>\n",
       "  <div class=\"bk-root\" id=\"596dbb54-17ce-43e5-8dbc-1368df14bcbf\" data-root-id=\"1118\"></div>\n",
       "</div>\n",
       "<script type=\"application/javascript\">(function(root) {\n",
       "  function embed_document(root) {\n",
       "    var docs_json = {\"5e96cafa-75f6-41cb-aab8-0b3bc52b2b6f\":{\"defs\":[{\"extends\":null,\"module\":null,\"name\":\"ReactiveHTML1\",\"overrides\":[],\"properties\":[]},{\"extends\":null,\"module\":null,\"name\":\"FlexBox1\",\"overrides\":[],\"properties\":[{\"default\":\"flex-start\",\"kind\":null,\"name\":\"align_content\"},{\"default\":\"flex-start\",\"kind\":null,\"name\":\"align_items\"},{\"default\":\"row\",\"kind\":null,\"name\":\"flex_direction\"},{\"default\":\"wrap\",\"kind\":null,\"name\":\"flex_wrap\"},{\"default\":\"flex-start\",\"kind\":null,\"name\":\"justify_content\"}]},{\"extends\":null,\"module\":null,\"name\":\"GridStack1\",\"overrides\":[],\"properties\":[{\"default\":\"warn\",\"kind\":null,\"name\":\"mode\"},{\"default\":null,\"kind\":null,\"name\":\"ncols\"},{\"default\":null,\"kind\":null,\"name\":\"nrows\"},{\"default\":true,\"kind\":null,\"name\":\"allow_resize\"},{\"default\":true,\"kind\":null,\"name\":\"allow_drag\"},{\"default\":[],\"kind\":null,\"name\":\"state\"}]},{\"extends\":null,\"module\":null,\"name\":\"click1\",\"overrides\":[],\"properties\":[{\"default\":\"\",\"kind\":null,\"name\":\"terminal_output\"},{\"default\":\"\",\"kind\":null,\"name\":\"debug_name\"},{\"default\":0,\"kind\":null,\"name\":\"clears\"}]},{\"extends\":null,\"module\":null,\"name\":\"NotificationAreaBase1\",\"overrides\":[],\"properties\":[{\"default\":\"bottom-right\",\"kind\":null,\"name\":\"position\"},{\"default\":0,\"kind\":null,\"name\":\"_clear\"}]},{\"extends\":null,\"module\":null,\"name\":\"NotificationArea1\",\"overrides\":[],\"properties\":[{\"default\":[],\"kind\":null,\"name\":\"notifications\"},{\"default\":\"bottom-right\",\"kind\":null,\"name\":\"position\"},{\"default\":0,\"kind\":null,\"name\":\"_clear\"},{\"default\":[{\"background\":\"#ffc107\",\"icon\":{\"className\":\"fas fa-exclamation-triangle\",\"color\":\"white\",\"tagName\":\"i\"},\"type\":\"warning\"},{\"background\":\"#007bff\",\"icon\":{\"className\":\"fas fa-info-circle\",\"color\":\"white\",\"tagName\":\"i\"},\"type\":\"info\"}],\"kind\":null,\"name\":\"types\"}]},{\"extends\":null,\"module\":null,\"name\":\"Notification\",\"overrides\":[],\"properties\":[{\"default\":null,\"kind\":null,\"name\":\"background\"},{\"default\":3000,\"kind\":null,\"name\":\"duration\"},{\"default\":null,\"kind\":null,\"name\":\"icon\"},{\"default\":\"\",\"kind\":null,\"name\":\"message\"},{\"default\":null,\"kind\":null,\"name\":\"notification_type\"},{\"default\":false,\"kind\":null,\"name\":\"_destroyed\"}]},{\"extends\":null,\"module\":null,\"name\":\"TemplateActions1\",\"overrides\":[],\"properties\":[{\"default\":0,\"kind\":null,\"name\":\"open_modal\"},{\"default\":0,\"kind\":null,\"name\":\"close_modal\"}]},{\"extends\":null,\"module\":null,\"name\":\"MaterialTemplateActions1\",\"overrides\":[],\"properties\":[{\"default\":0,\"kind\":null,\"name\":\"open_modal\"},{\"default\":0,\"kind\":null,\"name\":\"close_modal\"}]}],\"roots\":{\"references\":[{\"attributes\":{\"active\":0,\"button_type\":\"primary\",\"labels\":[\"co2\",\"co2_per_capita\"],\"margin\":[5,10,5,10]},\"id\":\"1118\",\"type\":\"RadioButtonGroup\"},{\"attributes\":{\"client_comm_id\":\"a9d747587c194b8abb270e48dc12a31e\",\"comm_id\":\"084eef8637674972ab8c3c9c0c6c5ae3\",\"plot_id\":\"1118\"},\"id\":\"1119\",\"type\":\"panel.models.comm_manager.CommManager\"}],\"root_ids\":[\"1118\",\"1119\"]},\"title\":\"Bokeh Application\",\"version\":\"2.4.3\"}};\n",
       "    var render_items = [{\"docid\":\"5e96cafa-75f6-41cb-aab8-0b3bc52b2b6f\",\"root_ids\":[\"1118\"],\"roots\":{\"1118\":\"596dbb54-17ce-43e5-8dbc-1368df14bcbf\"}}];\n",
       "    root.Bokeh.embed.embed_items_notebook(docs_json, render_items);\n",
       "    for (const render_item of render_items) {\n",
       "      for (const root_id of render_item.root_ids) {\n",
       "\tconst id_el = document.getElementById(root_id)\n",
       "\tif (id_el.children.length && (id_el.children[0].className === 'bk-root')) {\n",
       "\t  const root_el = id_el.children[0]\n",
       "\t  root_el.id = root_el.id + '-rendered'\n",
       "\t}\n",
       "      }\n",
       "    }\n",
       "  }\n",
       "  if (root.Bokeh !== undefined && root.Bokeh.Panel !== undefined && ( root['Tabulator'] !== undefined)) {\n",
       "    embed_document(root);\n",
       "  } else {\n",
       "    var attempts = 0;\n",
       "    var timer = setInterval(function(root) {\n",
       "      if (root.Bokeh !== undefined && root.Bokeh.Panel !== undefined && (root['Tabulator'] !== undefined)) {\n",
       "        clearInterval(timer);\n",
       "        embed_document(root);\n",
       "      } else if (document.readyState == \"complete\") {\n",
       "        attempts++;\n",
       "        if (attempts > 200) {\n",
       "          clearInterval(timer);\n",
       "          console.log(\"Bokeh: ERROR: Unable to run BokehJS code because BokehJS library is missing\");\n",
       "        }\n",
       "      }\n",
       "    }, 25, root)\n",
       "  }\n",
       "})(window);</script>"
      ],
      "text/plain": [
       "RadioButtonGroup(button_type='primary', name='Y Axis', options=['co2', 'co2_per_capita'], value='co2')"
      ]
     },
     "execution_count": 52,
     "metadata": {
      "application/vnd.holoviews_exec.v0+json": {
       "id": "1118"
      }
     },
     "output_type": "execute_result"
    }
   ],
   "source": [
    "#Creating a radio button for co2 measures\n",
    "yaxis_co2 = pn.widgets.RadioButtonGroup(\n",
    "    name='Y Axis', \n",
    "    options=['co2', 'co2_per_capita'],\n",
    "             button_type='primary')\n",
    "yaxis_co2"
   ]
  },
  {
   "cell_type": "code",
   "execution_count": 61,
   "id": "67e97893-fb02-4042-9e42-04a4eb2b8683",
   "metadata": {
    "tags": []
   },
   "outputs": [],
   "source": [
    "continents = ['World', 'Asia', 'Oceania', 'Europe', 'Africa', 'North America', 'South America', 'Antarctica']\n",
    "\n",
    "co2_pipeline = (\n",
    "    idf[\n",
    "        (idf.year <= year_slider) &\n",
    "        (idf.country.isin(continents))\n",
    "    ]\n",
    "    .groupby(['country', 'year'])[yaxis_co2].mean()\n",
    "    .to_frame()\n",
    "    .reset_index()\n",
    "    .sort_values(by='year')  \n",
    "    .reset_index(drop=True)\n",
    ")"
   ]
  },
  {
   "cell_type": "code",
   "execution_count": 50,
   "id": "0caf97e3-313f-4e76-8c7c-d6d4970ea2a9",
   "metadata": {
    "tags": []
   },
   "outputs": [
    {
     "data": {},
     "metadata": {},
     "output_type": "display_data"
    },
    {
     "data": {
      "application/vnd.holoviews_exec.v0+json": "",
      "text/html": [
       "<div id='1026'>\n",
       "  <div class=\"bk-root\" id=\"75b825f4-cbff-4074-9696-93189faaba61\" data-root-id=\"1026\"></div>\n",
       "</div>\n",
       "<script type=\"application/javascript\">(function(root) {\n",
       "  function embed_document(root) {\n",
       "    var docs_json = {\"46bd9036-c083-454b-9a87-d7715716956a\":{\"defs\":[{\"extends\":null,\"module\":null,\"name\":\"ReactiveHTML1\",\"overrides\":[],\"properties\":[]},{\"extends\":null,\"module\":null,\"name\":\"FlexBox1\",\"overrides\":[],\"properties\":[{\"default\":\"flex-start\",\"kind\":null,\"name\":\"align_content\"},{\"default\":\"flex-start\",\"kind\":null,\"name\":\"align_items\"},{\"default\":\"row\",\"kind\":null,\"name\":\"flex_direction\"},{\"default\":\"wrap\",\"kind\":null,\"name\":\"flex_wrap\"},{\"default\":\"flex-start\",\"kind\":null,\"name\":\"justify_content\"}]},{\"extends\":null,\"module\":null,\"name\":\"GridStack1\",\"overrides\":[],\"properties\":[{\"default\":\"warn\",\"kind\":null,\"name\":\"mode\"},{\"default\":null,\"kind\":null,\"name\":\"ncols\"},{\"default\":null,\"kind\":null,\"name\":\"nrows\"},{\"default\":true,\"kind\":null,\"name\":\"allow_resize\"},{\"default\":true,\"kind\":null,\"name\":\"allow_drag\"},{\"default\":[],\"kind\":null,\"name\":\"state\"}]},{\"extends\":null,\"module\":null,\"name\":\"click1\",\"overrides\":[],\"properties\":[{\"default\":\"\",\"kind\":null,\"name\":\"terminal_output\"},{\"default\":\"\",\"kind\":null,\"name\":\"debug_name\"},{\"default\":0,\"kind\":null,\"name\":\"clears\"}]},{\"extends\":null,\"module\":null,\"name\":\"NotificationAreaBase1\",\"overrides\":[],\"properties\":[{\"default\":\"bottom-right\",\"kind\":null,\"name\":\"position\"},{\"default\":0,\"kind\":null,\"name\":\"_clear\"}]},{\"extends\":null,\"module\":null,\"name\":\"NotificationArea1\",\"overrides\":[],\"properties\":[{\"default\":[],\"kind\":null,\"name\":\"notifications\"},{\"default\":\"bottom-right\",\"kind\":null,\"name\":\"position\"},{\"default\":0,\"kind\":null,\"name\":\"_clear\"},{\"default\":[{\"background\":\"#ffc107\",\"icon\":{\"className\":\"fas fa-exclamation-triangle\",\"color\":\"white\",\"tagName\":\"i\"},\"type\":\"warning\"},{\"background\":\"#007bff\",\"icon\":{\"className\":\"fas fa-info-circle\",\"color\":\"white\",\"tagName\":\"i\"},\"type\":\"info\"}],\"kind\":null,\"name\":\"types\"}]},{\"extends\":null,\"module\":null,\"name\":\"Notification\",\"overrides\":[],\"properties\":[{\"default\":null,\"kind\":null,\"name\":\"background\"},{\"default\":3000,\"kind\":null,\"name\":\"duration\"},{\"default\":null,\"kind\":null,\"name\":\"icon\"},{\"default\":\"\",\"kind\":null,\"name\":\"message\"},{\"default\":null,\"kind\":null,\"name\":\"notification_type\"},{\"default\":false,\"kind\":null,\"name\":\"_destroyed\"}]},{\"extends\":null,\"module\":null,\"name\":\"TemplateActions1\",\"overrides\":[],\"properties\":[{\"default\":0,\"kind\":null,\"name\":\"open_modal\"},{\"default\":0,\"kind\":null,\"name\":\"close_modal\"}]},{\"extends\":null,\"module\":null,\"name\":\"MaterialTemplateActions1\",\"overrides\":[],\"properties\":[{\"default\":0,\"kind\":null,\"name\":\"open_modal\"},{\"default\":0,\"kind\":null,\"name\":\"close_modal\"}]}],\"roots\":{\"references\":[{\"attributes\":{\"children\":[{\"id\":\"1028\"},{\"id\":\"1033\"}],\"margin\":[0,0,0,0],\"name\":\"Column06384\"},\"id\":\"1027\",\"type\":\"Column\"},{\"attributes\":{\"client_comm_id\":\"0d6c7fa0a05b48b98f359e2e25c80830\",\"comm_id\":\"7d34f923121d4699a48f5c7ba5276596\",\"plot_id\":\"1026\"},\"id\":\"1035\",\"type\":\"panel.models.comm_manager.CommManager\"},{\"attributes\":{\"margin\":[5,5,5,5],\"name\":\"HSpacer06382\",\"sizing_mode\":\"stretch_width\"},\"id\":\"1032\",\"type\":\"Spacer\"},{\"attributes\":{\"children\":[{\"id\":\"1034\"}],\"margin\":[0,0,0,0],\"name\":\"Row06379\"},\"id\":\"1033\",\"type\":\"Row\"},{\"attributes\":{\"margin\":[5,5,5,5],\"name\":\"DataFrame06380\",\"text\":\"&lt;table class=&quot;dataframe panel-df&quot;&gt;\\n  &lt;thead&gt;\\n    &lt;tr style=&quot;text-align: right;&quot;&gt;\\n      &lt;th&gt;&lt;/th&gt;\\n      &lt;th&gt;country&lt;/th&gt;\\n      &lt;th&gt;year&lt;/th&gt;\\n      &lt;th&gt;co2&lt;/th&gt;\\n    &lt;/tr&gt;\\n  &lt;/thead&gt;\\n  &lt;tbody&gt;\\n    &lt;tr&gt;\\n      &lt;th&gt;0&lt;/th&gt;\\n      &lt;td&gt;Africa&lt;/td&gt;\\n      &lt;td&gt;1750&lt;/td&gt;\\n      &lt;td&gt;0.000&lt;/td&gt;\\n    &lt;/tr&gt;\\n    &lt;tr&gt;\\n      &lt;th&gt;1&lt;/th&gt;\\n      &lt;td&gt;Asia&lt;/td&gt;\\n      &lt;td&gt;1750&lt;/td&gt;\\n      &lt;td&gt;0.000&lt;/td&gt;\\n    &lt;/tr&gt;\\n    &lt;tr&gt;\\n      &lt;th&gt;2&lt;/th&gt;\\n      &lt;td&gt;Europe&lt;/td&gt;\\n      &lt;td&gt;1750&lt;/td&gt;\\n      &lt;td&gt;9.351&lt;/td&gt;\\n    &lt;/tr&gt;\\n    &lt;tr&gt;\\n      &lt;th&gt;3&lt;/th&gt;\\n      &lt;td&gt;North America&lt;/td&gt;\\n      &lt;td&gt;1750&lt;/td&gt;\\n      &lt;td&gt;0.000&lt;/td&gt;\\n    &lt;/tr&gt;\\n    &lt;tr&gt;\\n      &lt;th&gt;4&lt;/th&gt;\\n      &lt;td&gt;Oceania&lt;/td&gt;\\n      &lt;td&gt;1750&lt;/td&gt;\\n      &lt;td&gt;0.000&lt;/td&gt;\\n    &lt;/tr&gt;\\n    &lt;tr&gt;\\n      &lt;th&gt;5&lt;/th&gt;\\n      &lt;td&gt;South America&lt;/td&gt;\\n      &lt;td&gt;1750&lt;/td&gt;\\n      &lt;td&gt;0.000&lt;/td&gt;\\n    &lt;/tr&gt;\\n    &lt;tr&gt;\\n      &lt;th&gt;6&lt;/th&gt;\\n      &lt;td&gt;World&lt;/td&gt;\\n      &lt;td&gt;1750&lt;/td&gt;\\n      &lt;td&gt;9.351&lt;/td&gt;\\n    &lt;/tr&gt;\\n  &lt;/tbody&gt;\\n&lt;/table&gt;\"},\"id\":\"1034\",\"type\":\"panel.models.markup.HTML\"},{\"attributes\":{\"children\":[{\"id\":\"1030\"},{\"id\":\"1031\"}],\"margin\":[0,0,0,0],\"name\":\"Column06374\"},\"id\":\"1029\",\"type\":\"Column\"},{\"attributes\":{\"children\":[{\"id\":\"1027\"}],\"margin\":[0,0,0,0],\"name\":\"Row06385\"},\"id\":\"1026\",\"type\":\"Row\"},{\"attributes\":{\"active\":0,\"button_type\":\"primary\",\"labels\":[\"co2\",\"Co2_per_capita\"],\"margin\":[5,10,5,10]},\"id\":\"1031\",\"type\":\"RadioButtonGroup\"},{\"attributes\":{\"children\":[{\"id\":\"1029\"},{\"id\":\"1032\"}],\"margin\":[0,0,0,0],\"name\":\"Row06383\"},\"id\":\"1028\",\"type\":\"Row\"},{\"attributes\":{\"end\":2021,\"margin\":[5,10,5,10],\"start\":1750,\"title\":\"Years\",\"value\":1750},\"id\":\"1030\",\"type\":\"Slider\"}],\"root_ids\":[\"1026\",\"1035\"]},\"title\":\"Bokeh Application\",\"version\":\"2.4.3\"}};\n",
       "    var render_items = [{\"docid\":\"46bd9036-c083-454b-9a87-d7715716956a\",\"root_ids\":[\"1026\"],\"roots\":{\"1026\":\"75b825f4-cbff-4074-9696-93189faaba61\"}}];\n",
       "    root.Bokeh.embed.embed_items_notebook(docs_json, render_items);\n",
       "    for (const render_item of render_items) {\n",
       "      for (const root_id of render_item.root_ids) {\n",
       "\tconst id_el = document.getElementById(root_id)\n",
       "\tif (id_el.children.length && (id_el.children[0].className === 'bk-root')) {\n",
       "\t  const root_el = id_el.children[0]\n",
       "\t  root_el.id = root_el.id + '-rendered'\n",
       "\t}\n",
       "      }\n",
       "    }\n",
       "  }\n",
       "  if (root.Bokeh !== undefined && root.Bokeh.Panel !== undefined && ( root['Tabulator'] !== undefined)) {\n",
       "    embed_document(root);\n",
       "  } else {\n",
       "    var attempts = 0;\n",
       "    var timer = setInterval(function(root) {\n",
       "      if (root.Bokeh !== undefined && root.Bokeh.Panel !== undefined && (root['Tabulator'] !== undefined)) {\n",
       "        clearInterval(timer);\n",
       "        embed_document(root);\n",
       "      } else if (document.readyState == \"complete\") {\n",
       "        attempts++;\n",
       "        if (attempts > 200) {\n",
       "          clearInterval(timer);\n",
       "          console.log(\"Bokeh: ERROR: Unable to run BokehJS code because BokehJS library is missing\");\n",
       "        }\n",
       "      }\n",
       "    }, 25, root)\n",
       "  }\n",
       "})(window);</script>"
      ],
      "text/plain": [
       "<hvplot.interactive.Interactive at 0x12ea4f1aa30>"
      ]
     },
     "execution_count": 50,
     "metadata": {
      "application/vnd.holoviews_exec.v0+json": {
       "id": "1026"
      }
     },
     "output_type": "execute_result"
    }
   ],
   "source": [
    "co2_pipeline"
   ]
  },
  {
   "cell_type": "code",
   "execution_count": null,
   "id": "0c3c096c-1568-45b0-a97e-ddd4f7cb95ae",
   "metadata": {
    "tags": []
   },
   "outputs": [],
   "source": [
    "#First chart \n",
    "co2_plot = co2_pipeline.hvplot(x = 'year', by='country', y=yaxis_co2,line_width=2, title=\"CO2 emission by continent\")\n",
    "co2_plot"
   ]
  },
  {
   "cell_type": "code",
   "execution_count": 63,
   "id": "1ab4e0b9-a6f7-4012-8601-8b3838a746b4",
   "metadata": {
    "tags": []
   },
   "outputs": [
    {
     "data": {},
     "metadata": {},
     "output_type": "display_data"
    },
    {
     "data": {
      "application/vnd.holoviews_exec.v0+json": "",
      "text/html": [
       "<div id='6877'>\n",
       "  <div class=\"bk-root\" id=\"e589e537-8d6a-4fff-91e4-747248c0c1d7\" data-root-id=\"6877\"></div>\n",
       "</div>\n",
       "<script type=\"application/javascript\">(function(root) {\n",
       "  function embed_document(root) {\n",
       "    var docs_json = {\"096585e0-6886-4fbd-94a2-ecd67ee58ad0\":{\"defs\":[{\"extends\":null,\"module\":null,\"name\":\"ReactiveHTML1\",\"overrides\":[],\"properties\":[]},{\"extends\":null,\"module\":null,\"name\":\"FlexBox1\",\"overrides\":[],\"properties\":[{\"default\":\"flex-start\",\"kind\":null,\"name\":\"align_content\"},{\"default\":\"flex-start\",\"kind\":null,\"name\":\"align_items\"},{\"default\":\"row\",\"kind\":null,\"name\":\"flex_direction\"},{\"default\":\"wrap\",\"kind\":null,\"name\":\"flex_wrap\"},{\"default\":\"flex-start\",\"kind\":null,\"name\":\"justify_content\"}]},{\"extends\":null,\"module\":null,\"name\":\"GridStack1\",\"overrides\":[],\"properties\":[{\"default\":\"warn\",\"kind\":null,\"name\":\"mode\"},{\"default\":null,\"kind\":null,\"name\":\"ncols\"},{\"default\":null,\"kind\":null,\"name\":\"nrows\"},{\"default\":true,\"kind\":null,\"name\":\"allow_resize\"},{\"default\":true,\"kind\":null,\"name\":\"allow_drag\"},{\"default\":[],\"kind\":null,\"name\":\"state\"}]},{\"extends\":null,\"module\":null,\"name\":\"click1\",\"overrides\":[],\"properties\":[{\"default\":\"\",\"kind\":null,\"name\":\"terminal_output\"},{\"default\":\"\",\"kind\":null,\"name\":\"debug_name\"},{\"default\":0,\"kind\":null,\"name\":\"clears\"}]},{\"extends\":null,\"module\":null,\"name\":\"NotificationAreaBase1\",\"overrides\":[],\"properties\":[{\"default\":\"bottom-right\",\"kind\":null,\"name\":\"position\"},{\"default\":0,\"kind\":null,\"name\":\"_clear\"}]},{\"extends\":null,\"module\":null,\"name\":\"NotificationArea1\",\"overrides\":[],\"properties\":[{\"default\":[],\"kind\":null,\"name\":\"notifications\"},{\"default\":\"bottom-right\",\"kind\":null,\"name\":\"position\"},{\"default\":0,\"kind\":null,\"name\":\"_clear\"},{\"default\":[{\"background\":\"#ffc107\",\"icon\":{\"className\":\"fas fa-exclamation-triangle\",\"color\":\"white\",\"tagName\":\"i\"},\"type\":\"warning\"},{\"background\":\"#007bff\",\"icon\":{\"className\":\"fas fa-info-circle\",\"color\":\"white\",\"tagName\":\"i\"},\"type\":\"info\"}],\"kind\":null,\"name\":\"types\"}]},{\"extends\":null,\"module\":null,\"name\":\"Notification\",\"overrides\":[],\"properties\":[{\"default\":null,\"kind\":null,\"name\":\"background\"},{\"default\":3000,\"kind\":null,\"name\":\"duration\"},{\"default\":null,\"kind\":null,\"name\":\"icon\"},{\"default\":\"\",\"kind\":null,\"name\":\"message\"},{\"default\":null,\"kind\":null,\"name\":\"notification_type\"},{\"default\":false,\"kind\":null,\"name\":\"_destroyed\"}]},{\"extends\":null,\"module\":null,\"name\":\"TemplateActions1\",\"overrides\":[],\"properties\":[{\"default\":0,\"kind\":null,\"name\":\"open_modal\"},{\"default\":0,\"kind\":null,\"name\":\"close_modal\"}]},{\"extends\":null,\"module\":null,\"name\":\"MaterialTemplateActions1\",\"overrides\":[],\"properties\":[{\"default\":0,\"kind\":null,\"name\":\"open_modal\"},{\"default\":0,\"kind\":null,\"name\":\"close_modal\"}]}],\"roots\":{\"references\":[{\"attributes\":{},\"id\":\"6910\",\"type\":\"UnionRenderers\"},{\"attributes\":{\"columns\":[{\"id\":\"6890\"},{\"id\":\"6895\"},{\"id\":\"6900\"},{\"id\":\"6905\"}],\"configuration\":{\"columns\":[{\"field\":\"index\",\"sorter\":\"number\"},{\"field\":\"country\"},{\"field\":\"year\",\"sorter\":\"number\"},{\"field\":\"co2\",\"sorter\":\"number\"}],\"dataTree\":false,\"selectable\":true},\"indexes\":[\"index\"],\"layout\":\"fit_data_table\",\"margin\":[5,10,5,10],\"max_page\":138,\"name\":\"\",\"page\":1,\"page_size\":10,\"pagination\":\"remote\",\"select_mode\":true,\"selectable_rows\":null,\"sizing_mode\":\"stretch_width\",\"source\":{\"id\":\"6885\"},\"styles\":{\"data\":{},\"id\":\"27f03297473c42648149f2acc6cec519\"},\"subscribed_events\":[\"cell-click\",\"table-edit\"],\"theme_url\":\"https://cdn.jsdelivr.net/npm/@holoviz/panel@0.14.4/dist/bundled/datatabulator/tabulator-tables@5.3.2/dist/css/\"},\"id\":\"6908\",\"type\":\"panel.models.tabulator.DataTabulator\"},{\"attributes\":{\"children\":[{\"id\":\"6878\"}],\"margin\":[0,0,0,0],\"name\":\"Row29095\"},\"id\":\"6877\",\"type\":\"Row\"},{\"attributes\":{\"data\":{\"co2\":{\"__ndarray__\":\"AAAAAAAAAAAAAAAAAAAAAMHKoUW2syJAAAAAAAAAAAAAAAAAAAAAAMHKoUW2syJAAAAAAAAAAAAAAAAAAAAAAAAAAAAAAAAAAAAAAAAAAAA=\",\"dtype\":\"float64\",\"order\":\"little\",\"shape\":[10]},\"country\":[\"Africa\",\"South America\",\"Europe\",\"North America\",\"Asia\",\"World\",\"Oceania\",\"Asia\",\"South America\",\"Africa\"],\"index\":[0,1,2,3,4,5,6,7,8,9],\"year\":[1750,1750,1750,1750,1750,1750,1750,1751,1751,1751]},\"selected\":{\"id\":\"6886\"},\"selection_policy\":{\"id\":\"6910\"}},\"id\":\"6885\",\"type\":\"ColumnDataSource\"},{\"attributes\":{\"children\":[{\"id\":\"6908\"}],\"margin\":[0,0,0,0],\"name\":\"Row29091\",\"sizing_mode\":\"stretch_width\"},\"id\":\"6884\",\"type\":\"Row\"},{\"attributes\":{\"text_align\":\"left\"},\"id\":\"6887\",\"type\":\"NumberFormatter\"},{\"attributes\":{},\"id\":\"6894\",\"type\":\"StringEditor\"},{\"attributes\":{},\"id\":\"6904\",\"type\":\"NumberEditor\"},{\"attributes\":{\"editor\":{\"id\":\"6889\"},\"field\":\"index\",\"formatter\":{\"id\":\"6887\"},\"title\":\"index\",\"width\":0},\"id\":\"6890\",\"type\":\"TableColumn\"},{\"attributes\":{\"format\":\"0,0.0[00000]\",\"text_align\":\"right\"},\"id\":\"6903\",\"type\":\"NumberFormatter\"},{\"attributes\":{\"text_align\":\"right\"},\"id\":\"6898\",\"type\":\"NumberFormatter\"},{\"attributes\":{\"children\":[{\"id\":\"6881\"},{\"id\":\"6882\"}],\"margin\":[0,0,0,0],\"name\":\"Column29086\"},\"id\":\"6880\",\"type\":\"Column\"},{\"attributes\":{},\"id\":\"6889\",\"type\":\"CellEditor\"},{\"attributes\":{\"children\":[{\"id\":\"6880\"},{\"id\":\"6883\"}],\"margin\":[0,0,0,0],\"name\":\"Row29093\"},\"id\":\"6879\",\"type\":\"Row\"},{\"attributes\":{\"indices\":[]},\"id\":\"6886\",\"type\":\"Selection\"},{\"attributes\":{\"active\":0,\"button_type\":\"primary\",\"labels\":[\"co2\",\"co2_per_capita\"],\"margin\":[5,10,5,10]},\"id\":\"6882\",\"type\":\"RadioButtonGroup\"},{\"attributes\":{\"client_comm_id\":\"c338ab18a4a346d1a0799d0c2c5501f0\",\"comm_id\":\"996bc2999c0d47979880d542ce92086d\",\"plot_id\":\"6877\"},\"id\":\"6916\",\"type\":\"panel.models.comm_manager.CommManager\"},{\"attributes\":{\"editor\":{\"id\":\"6899\"},\"field\":\"year\",\"formatter\":{\"id\":\"6898\"},\"title\":\"year\",\"width\":0},\"id\":\"6900\",\"type\":\"TableColumn\"},{\"attributes\":{},\"id\":\"6893\",\"type\":\"StringFormatter\"},{\"attributes\":{},\"id\":\"6899\",\"type\":\"IntEditor\"},{\"attributes\":{\"margin\":[5,5,5,5],\"name\":\"HSpacer29092\",\"sizing_mode\":\"stretch_width\"},\"id\":\"6883\",\"type\":\"Spacer\"},{\"attributes\":{\"children\":[{\"id\":\"6879\"},{\"id\":\"6884\"}],\"margin\":[0,0,0,0],\"name\":\"Column29094\"},\"id\":\"6878\",\"type\":\"Column\"},{\"attributes\":{\"editor\":{\"id\":\"6894\"},\"field\":\"country\",\"formatter\":{\"id\":\"6893\"},\"title\":\"country\",\"width\":0},\"id\":\"6895\",\"type\":\"TableColumn\"},{\"attributes\":{\"editor\":{\"id\":\"6904\"},\"field\":\"co2\",\"formatter\":{\"id\":\"6903\"},\"title\":\"co2\",\"width\":0},\"id\":\"6905\",\"type\":\"TableColumn\"},{\"attributes\":{\"end\":2021,\"margin\":[5,10,5,10],\"start\":1750,\"step\":5,\"title\":\"Years\",\"value\":1945},\"id\":\"6881\",\"type\":\"Slider\"}],\"root_ids\":[\"6877\",\"6916\"]},\"title\":\"Bokeh Application\",\"version\":\"2.4.3\"}};\n",
       "    var render_items = [{\"docid\":\"096585e0-6886-4fbd-94a2-ecd67ee58ad0\",\"root_ids\":[\"6877\"],\"roots\":{\"6877\":\"e589e537-8d6a-4fff-91e4-747248c0c1d7\"}}];\n",
       "    root.Bokeh.embed.embed_items_notebook(docs_json, render_items);\n",
       "    for (const render_item of render_items) {\n",
       "      for (const root_id of render_item.root_ids) {\n",
       "\tconst id_el = document.getElementById(root_id)\n",
       "\tif (id_el.children.length && (id_el.children[0].className === 'bk-root')) {\n",
       "\t  const root_el = id_el.children[0]\n",
       "\t  root_el.id = root_el.id + '-rendered'\n",
       "\t}\n",
       "      }\n",
       "    }\n",
       "  }\n",
       "  if (root.Bokeh !== undefined && root.Bokeh.Panel !== undefined && ( root['Tabulator'] !== undefined)) {\n",
       "    embed_document(root);\n",
       "  } else {\n",
       "    var attempts = 0;\n",
       "    var timer = setInterval(function(root) {\n",
       "      if (root.Bokeh !== undefined && root.Bokeh.Panel !== undefined && (root['Tabulator'] !== undefined)) {\n",
       "        clearInterval(timer);\n",
       "        embed_document(root);\n",
       "      } else if (document.readyState == \"complete\") {\n",
       "        attempts++;\n",
       "        if (attempts > 200) {\n",
       "          clearInterval(timer);\n",
       "          console.log(\"Bokeh: ERROR: Unable to run BokehJS code because BokehJS library is missing\");\n",
       "        }\n",
       "      }\n",
       "    }, 25, root)\n",
       "  }\n",
       "})(window);</script>"
      ],
      "text/plain": [
       "<hvplot.interactive.Interactive at 0x12ea58b0d00>"
      ]
     },
     "execution_count": 63,
     "metadata": {
      "application/vnd.holoviews_exec.v0+json": {
       "id": "6877"
      }
     },
     "output_type": "execute_result"
    }
   ],
   "source": [
    "#Second Chart\n",
    "co2_table = co2_pipeline.pipe(pn.widgets.Tabulator, pagination='remote', page_size = 10, sizing_mode='stretch_width') \n",
    "co2_table"
   ]
  },
  {
   "cell_type": "code",
   "execution_count": 64,
   "id": "35782955-f090-48d9-a911-2d1378532d45",
   "metadata": {
    "tags": []
   },
   "outputs": [
    {
     "data": {},
     "metadata": {},
     "output_type": "display_data"
    },
    {
     "data": {
      "application/vnd.holoviews_exec.v0+json": "",
      "text/html": [
       "<div id='8811'>\n",
       "  <div class=\"bk-root\" id=\"d3ef4d67-f238-42e3-91e9-a9da72844e60\" data-root-id=\"8811\"></div>\n",
       "</div>\n",
       "<script type=\"application/javascript\">(function(root) {\n",
       "  function embed_document(root) {\n",
       "    var docs_json = {\"9440fe9d-36ed-43e6-b171-0a307ff810c6\":{\"defs\":[{\"extends\":null,\"module\":null,\"name\":\"ReactiveHTML1\",\"overrides\":[],\"properties\":[]},{\"extends\":null,\"module\":null,\"name\":\"FlexBox1\",\"overrides\":[],\"properties\":[{\"default\":\"flex-start\",\"kind\":null,\"name\":\"align_content\"},{\"default\":\"flex-start\",\"kind\":null,\"name\":\"align_items\"},{\"default\":\"row\",\"kind\":null,\"name\":\"flex_direction\"},{\"default\":\"wrap\",\"kind\":null,\"name\":\"flex_wrap\"},{\"default\":\"flex-start\",\"kind\":null,\"name\":\"justify_content\"}]},{\"extends\":null,\"module\":null,\"name\":\"GridStack1\",\"overrides\":[],\"properties\":[{\"default\":\"warn\",\"kind\":null,\"name\":\"mode\"},{\"default\":null,\"kind\":null,\"name\":\"ncols\"},{\"default\":null,\"kind\":null,\"name\":\"nrows\"},{\"default\":true,\"kind\":null,\"name\":\"allow_resize\"},{\"default\":true,\"kind\":null,\"name\":\"allow_drag\"},{\"default\":[],\"kind\":null,\"name\":\"state\"}]},{\"extends\":null,\"module\":null,\"name\":\"click1\",\"overrides\":[],\"properties\":[{\"default\":\"\",\"kind\":null,\"name\":\"terminal_output\"},{\"default\":\"\",\"kind\":null,\"name\":\"debug_name\"},{\"default\":0,\"kind\":null,\"name\":\"clears\"}]},{\"extends\":null,\"module\":null,\"name\":\"NotificationAreaBase1\",\"overrides\":[],\"properties\":[{\"default\":\"bottom-right\",\"kind\":null,\"name\":\"position\"},{\"default\":0,\"kind\":null,\"name\":\"_clear\"}]},{\"extends\":null,\"module\":null,\"name\":\"NotificationArea1\",\"overrides\":[],\"properties\":[{\"default\":[],\"kind\":null,\"name\":\"notifications\"},{\"default\":\"bottom-right\",\"kind\":null,\"name\":\"position\"},{\"default\":0,\"kind\":null,\"name\":\"_clear\"},{\"default\":[{\"background\":\"#ffc107\",\"icon\":{\"className\":\"fas fa-exclamation-triangle\",\"color\":\"white\",\"tagName\":\"i\"},\"type\":\"warning\"},{\"background\":\"#007bff\",\"icon\":{\"className\":\"fas fa-info-circle\",\"color\":\"white\",\"tagName\":\"i\"},\"type\":\"info\"}],\"kind\":null,\"name\":\"types\"}]},{\"extends\":null,\"module\":null,\"name\":\"Notification\",\"overrides\":[],\"properties\":[{\"default\":null,\"kind\":null,\"name\":\"background\"},{\"default\":3000,\"kind\":null,\"name\":\"duration\"},{\"default\":null,\"kind\":null,\"name\":\"icon\"},{\"default\":\"\",\"kind\":null,\"name\":\"message\"},{\"default\":null,\"kind\":null,\"name\":\"notification_type\"},{\"default\":false,\"kind\":null,\"name\":\"_destroyed\"}]},{\"extends\":null,\"module\":null,\"name\":\"TemplateActions1\",\"overrides\":[],\"properties\":[{\"default\":0,\"kind\":null,\"name\":\"open_modal\"},{\"default\":0,\"kind\":null,\"name\":\"close_modal\"}]},{\"extends\":null,\"module\":null,\"name\":\"MaterialTemplateActions1\",\"overrides\":[],\"properties\":[{\"default\":0,\"kind\":null,\"name\":\"open_modal\"},{\"default\":0,\"kind\":null,\"name\":\"close_modal\"}]}],\"roots\":{\"references\":[{\"attributes\":{\"margin\":[5,5,5,5],\"name\":\"HSpacer37299\",\"sizing_mode\":\"stretch_width\"},\"id\":\"8816\",\"type\":\"Spacer\"},{\"attributes\":{\"end\":2021,\"margin\":[5,10,5,10],\"start\":1750,\"step\":5,\"title\":\"Years\",\"value\":1905},\"id\":\"8815\",\"type\":\"Slider\"},{\"attributes\":{\"children\":[{\"id\":\"8818\"}],\"margin\":[0,0,0,0],\"name\":\"Row37296\"},\"id\":\"8817\",\"type\":\"Row\"},{\"attributes\":{\"children\":[{\"id\":\"8812\"}],\"margin\":[0,0,0,0],\"name\":\"Row37302\"},\"id\":\"8811\",\"type\":\"Row\"},{\"attributes\":{\"children\":[{\"id\":\"8814\"},{\"id\":\"8816\"}],\"margin\":[0,0,0,0],\"name\":\"Row37300\"},\"id\":\"8813\",\"type\":\"Row\"},{\"attributes\":{\"margin\":[5,5,5,5],\"name\":\"DataFrame37297\",\"text\":\"&lt;table class=&quot;dataframe panel-df&quot;&gt;\\n  &lt;thead&gt;\\n    &lt;tr style=&quot;text-align: right;&quot;&gt;\\n      &lt;th&gt;&lt;/th&gt;\\n      &lt;th&gt;country&lt;/th&gt;\\n      &lt;th&gt;year&lt;/th&gt;\\n      &lt;th&gt;gdp_per_capita&lt;/th&gt;\\n      &lt;th&gt;co2&lt;/th&gt;\\n    &lt;/tr&gt;\\n  &lt;/thead&gt;\\n  &lt;tbody&gt;\\n    &lt;tr&gt;\\n      &lt;th&gt;0&lt;/th&gt;\\n      &lt;td&gt;Afghanistan&lt;/td&gt;\\n      &lt;td&gt;1905&lt;/td&gt;\\n      &lt;td&gt;0.000000&lt;/td&gt;\\n      &lt;td&gt;0.000&lt;/td&gt;\\n    &lt;/tr&gt;\\n    &lt;tr&gt;\\n      &lt;th&gt;1&lt;/th&gt;\\n      &lt;td&gt;New Zealand&lt;/td&gt;\\n      &lt;td&gt;1905&lt;/td&gt;\\n      &lt;td&gt;7758.945704&lt;/td&gt;\\n      &lt;td&gt;3.539&lt;/td&gt;\\n    &lt;/tr&gt;\\n    &lt;tr&gt;\\n      &lt;th&gt;2&lt;/th&gt;\\n      &lt;td&gt;Nicaragua&lt;/td&gt;\\n      &lt;td&gt;1905&lt;/td&gt;\\n      &lt;td&gt;0.000000&lt;/td&gt;\\n      &lt;td&gt;0.000&lt;/td&gt;\\n    &lt;/tr&gt;\\n    &lt;tr&gt;\\n      &lt;th&gt;3&lt;/th&gt;\\n      &lt;td&gt;Niger&lt;/td&gt;\\n      &lt;td&gt;1905&lt;/td&gt;\\n      &lt;td&gt;0.000000&lt;/td&gt;\\n      &lt;td&gt;0.000&lt;/td&gt;\\n    &lt;/tr&gt;\\n    &lt;tr&gt;\\n      &lt;th&gt;4&lt;/th&gt;\\n      &lt;td&gt;Nigeria&lt;/td&gt;\\n      &lt;td&gt;1905&lt;/td&gt;\\n      &lt;td&gt;0.000000&lt;/td&gt;\\n      &lt;td&gt;0.000&lt;/td&gt;\\n    &lt;/tr&gt;\\n    &lt;tr&gt;\\n      &lt;th&gt;5&lt;/th&gt;\\n      &lt;td&gt;Non-OECD (GCP)&lt;/td&gt;\\n      &lt;td&gt;1905&lt;/td&gt;\\n      &lt;td&gt;0.000000&lt;/td&gt;\\n      &lt;td&gt;115.209&lt;/td&gt;\\n    &lt;/tr&gt;\\n    &lt;tr&gt;\\n      &lt;th&gt;6&lt;/th&gt;\\n      &lt;td&gt;North America (GCP)&lt;/td&gt;\\n      &lt;td&gt;1905&lt;/td&gt;\\n      &lt;td&gt;0.000000&lt;/td&gt;\\n      &lt;td&gt;1023.577&lt;/td&gt;\\n    &lt;/tr&gt;\\n    &lt;tr&gt;\\n      &lt;th&gt;7&lt;/th&gt;\\n      &lt;td&gt;North America (excl. USA)&lt;/td&gt;\\n      &lt;td&gt;1905&lt;/td&gt;\\n      &lt;td&gt;0.000000&lt;/td&gt;\\n      &lt;td&gt;37.094&lt;/td&gt;\\n    &lt;/tr&gt;\\n    &lt;tr&gt;\\n      &lt;th&gt;8&lt;/th&gt;\\n      &lt;td&gt;North Korea&lt;/td&gt;\\n      &lt;td&gt;1905&lt;/td&gt;\\n      &lt;td&gt;0.000000&lt;/td&gt;\\n      &lt;td&gt;0.014&lt;/td&gt;\\n    &lt;/tr&gt;\\n    &lt;tr&gt;\\n      &lt;th&gt;9&lt;/th&gt;\\n      &lt;td&gt;North Macedonia&lt;/td&gt;\\n      &lt;td&gt;1905&lt;/td&gt;\\n      &lt;td&gt;0.000000&lt;/td&gt;\\n      &lt;td&gt;0.113&lt;/td&gt;\\n    &lt;/tr&gt;\\n    &lt;tr&gt;\\n      &lt;th&gt;10&lt;/th&gt;\\n      &lt;td&gt;Norway&lt;/td&gt;\\n      &lt;td&gt;1905&lt;/td&gt;\\n      &lt;td&gt;3326.481800&lt;/td&gt;\\n      &lt;td&gt;4.148&lt;/td&gt;\\n    &lt;/tr&gt;\\n    &lt;tr&gt;\\n      &lt;th&gt;11&lt;/th&gt;\\n      &lt;td&gt;OECD (GCP)&lt;/td&gt;\\n      &lt;td&gt;1905&lt;/td&gt;\\n      &lt;td&gt;0.000000&lt;/td&gt;\\n      &lt;td&gt;2312.104&lt;/td&gt;\\n    &lt;/tr&gt;\\n    &lt;tr&gt;\\n      &lt;th&gt;12&lt;/th&gt;\\n      &lt;td&gt;Oceania (GCP)&lt;/td&gt;\\n      &lt;td&gt;1905&lt;/td&gt;\\n      &lt;td&gt;0.000000&lt;/td&gt;\\n      &lt;td&gt;15.587&lt;/td&gt;\\n    &lt;/tr&gt;\\n    &lt;tr&gt;\\n      &lt;th&gt;13&lt;/th&gt;\\n      &lt;td&gt;Oman&lt;/td&gt;\\n      &lt;td&gt;1905&lt;/td&gt;\\n      &lt;td&gt;0.000000&lt;/td&gt;\\n      &lt;td&gt;0.000&lt;/td&gt;\\n    &lt;/tr&gt;\\n    &lt;tr&gt;\\n      &lt;th&gt;14&lt;/th&gt;\\n      &lt;td&gt;Pakistan&lt;/td&gt;\\n      &lt;td&gt;1905&lt;/td&gt;\\n      &lt;td&gt;0.000000&lt;/td&gt;\\n      &lt;td&gt;0.000&lt;/td&gt;\\n    &lt;/tr&gt;\\n    &lt;tr&gt;\\n      &lt;th&gt;15&lt;/th&gt;\\n      &lt;td&gt;Palestine&lt;/td&gt;\\n      &lt;td&gt;1905&lt;/td&gt;\\n      &lt;td&gt;0.000000&lt;/td&gt;\\n      &lt;td&gt;0.000&lt;/td&gt;\\n    &lt;/tr&gt;\\n    &lt;tr&gt;\\n      &lt;th&gt;16&lt;/th&gt;\\n      &lt;td&gt;Panama&lt;/td&gt;\\n      &lt;td&gt;1905&lt;/td&gt;\\n      &lt;td&gt;0.000000&lt;/td&gt;\\n      &lt;td&gt;0.000&lt;/td&gt;\\n    &lt;/tr&gt;\\n    &lt;tr&gt;\\n      &lt;th&gt;17&lt;/th&gt;\\n      &lt;td&gt;Papua New Guinea&lt;/td&gt;\\n      &lt;td&gt;1905&lt;/td&gt;\\n      &lt;td&gt;0.000000&lt;/td&gt;\\n      &lt;td&gt;0.000&lt;/td&gt;\\n    &lt;/tr&gt;\\n    &lt;tr&gt;\\n      &lt;th&gt;18&lt;/th&gt;\\n      &lt;td&gt;Paraguay&lt;/td&gt;\\n      &lt;td&gt;1905&lt;/td&gt;\\n      &lt;td&gt;0.000000&lt;/td&gt;\\n      &lt;td&gt;0.000&lt;/td&gt;\\n    &lt;/tr&gt;\\n    &lt;tr&gt;\\n      &lt;th&gt;19&lt;/th&gt;\\n      &lt;td&gt;Peru&lt;/td&gt;\\n      &lt;td&gt;1905&lt;/td&gt;\\n      &lt;td&gt;1362.512773&lt;/td&gt;\\n      &lt;td&gt;0.352&lt;/td&gt;\\n    &lt;/tr&gt;\\n    &lt;tr&gt;\\n      &lt;th&gt;20&lt;/th&gt;\\n      &lt;td&gt;Philippines&lt;/td&gt;\\n      &lt;td&gt;1905&lt;/td&gt;\\n      &lt;td&gt;1258.083574&lt;/td&gt;\\n      &lt;td&gt;0.000&lt;/td&gt;\\n    &lt;/tr&gt;\\n    &lt;tr&gt;\\n      &lt;th&gt;21&lt;/th&gt;\\n      &lt;td&gt;Poland&lt;/td&gt;\\n      &lt;td&gt;1905&lt;/td&gt;\\n      &lt;td&gt;0.000000&lt;/td&gt;\\n      &lt;td&gt;74.885&lt;/td&gt;\\n    &lt;/tr&gt;\\n    &lt;tr&gt;\\n      &lt;th&gt;22&lt;/th&gt;\\n      &lt;td&gt;Portugal&lt;/td&gt;\\n      &lt;td&gt;1905&lt;/td&gt;\\n      &lt;td&gt;1966.591255&lt;/td&gt;\\n      &lt;td&gt;2.521&lt;/td&gt;\\n    &lt;/tr&gt;\\n    &lt;tr&gt;\\n      &lt;th&gt;23&lt;/th&gt;\\n      &lt;td&gt;Puerto Rico&lt;/td&gt;\\n      &lt;td&gt;1905&lt;/td&gt;\\n      &lt;td&gt;0.000000&lt;/td&gt;\\n      &lt;td&gt;0.000&lt;/td&gt;\\n    &lt;/tr&gt;\\n    &lt;tr&gt;\\n      &lt;th&gt;24&lt;/th&gt;\\n      &lt;td&gt;Qatar&lt;/td&gt;\\n      &lt;td&gt;1905&lt;/td&gt;\\n      &lt;td&gt;0.000000&lt;/td&gt;\\n      &lt;td&gt;0.000&lt;/td&gt;\\n    &lt;/tr&gt;\\n    &lt;tr&gt;\\n      &lt;th&gt;25&lt;/th&gt;\\n      &lt;td&gt;Reunion&lt;/td&gt;\\n      &lt;td&gt;1905&lt;/td&gt;\\n      &lt;td&gt;0.000000&lt;/td&gt;\\n      &lt;td&gt;0.000&lt;/td&gt;\\n    &lt;/tr&gt;\\n    &lt;tr&gt;\\n      &lt;th&gt;26&lt;/th&gt;\\n      &lt;td&gt;New Caledonia&lt;/td&gt;\\n      &lt;td&gt;1905&lt;/td&gt;\\n      &lt;td&gt;0.000000&lt;/td&gt;\\n      &lt;td&gt;0.000&lt;/td&gt;\\n    &lt;/tr&gt;\\n    &lt;tr&gt;\\n      &lt;th&gt;27&lt;/th&gt;\\n      &lt;td&gt;Romania&lt;/td&gt;\\n      &lt;td&gt;1905&lt;/td&gt;\\n      &lt;td&gt;0.000000&lt;/td&gt;\\n      &lt;td&gt;2.660&lt;/td&gt;\\n    &lt;/tr&gt;\\n    &lt;tr&gt;\\n      &lt;th&gt;28&lt;/th&gt;\\n      &lt;td&gt;Netherlands Antilles&lt;/td&gt;\\n      &lt;td&gt;1905&lt;/td&gt;\\n      &lt;td&gt;0.000000&lt;/td&gt;\\n      &lt;td&gt;0.000&lt;/td&gt;\\n    &lt;/tr&gt;\\n    &lt;tr&gt;\\n      &lt;th&gt;29&lt;/th&gt;\\n      &lt;td&gt;Nepal&lt;/td&gt;\\n      &lt;td&gt;1905&lt;/td&gt;\\n      &lt;td&gt;0.000000&lt;/td&gt;\\n      &lt;td&gt;0.000&lt;/td&gt;\\n    &lt;/tr&gt;\\n    &lt;tr&gt;\\n      &lt;th&gt;30&lt;/th&gt;\\n      &lt;td&gt;Liberia&lt;/td&gt;\\n      &lt;td&gt;1905&lt;/td&gt;\\n      &lt;td&gt;0.000000&lt;/td&gt;\\n      &lt;td&gt;0.000&lt;/td&gt;\\n    &lt;/tr&gt;\\n    &lt;tr&gt;\\n      &lt;th&gt;31&lt;/th&gt;\\n      &lt;td&gt;Libya&lt;/td&gt;\\n      &lt;td&gt;1905&lt;/td&gt;\\n      &lt;td&gt;0.000000&lt;/td&gt;\\n      &lt;td&gt;0.000&lt;/td&gt;\\n    &lt;/tr&gt;\\n    &lt;tr&gt;\\n      &lt;th&gt;32&lt;/th&gt;\\n      &lt;td&gt;Lithuania&lt;/td&gt;\\n      &lt;td&gt;1905&lt;/td&gt;\\n      &lt;td&gt;0.000000&lt;/td&gt;\\n      &lt;td&gt;0.754&lt;/td&gt;\\n    &lt;/tr&gt;\\n    &lt;tr&gt;\\n      &lt;th&gt;33&lt;/th&gt;\\n      &lt;td&gt;Low-income countries&lt;/td&gt;\\n      &lt;td&gt;1905&lt;/td&gt;\\n      &lt;td&gt;0.000000&lt;/td&gt;\\n      &lt;td&gt;0.014&lt;/td&gt;\\n    &lt;/tr&gt;\\n    &lt;tr&gt;\\n      &lt;th&gt;34&lt;/th&gt;\\n      &lt;td&gt;Lower-middle-income countries&lt;/td&gt;\\n      &lt;td&gt;1905&lt;/td&gt;\\n      &lt;td&gt;0.000000&lt;/td&gt;\\n      &lt;td&gt;38.680&lt;/td&gt;\\n    &lt;/tr&gt;\\n    &lt;tr&gt;\\n      &lt;th&gt;35&lt;/th&gt;\\n      &lt;td&gt;Luxembourg&lt;/td&gt;\\n      &lt;td&gt;1905&lt;/td&gt;\\n      &lt;td&gt;0.000000&lt;/td&gt;\\n      &lt;td&gt;0.000&lt;/td&gt;\\n    &lt;/tr&gt;\\n    &lt;tr&gt;\\n      &lt;th&gt;36&lt;/th&gt;\\n      &lt;td&gt;Madagascar&lt;/td&gt;\\n      &lt;td&gt;1905&lt;/td&gt;\\n      &lt;td&gt;0.000000&lt;/td&gt;\\n      &lt;td&gt;0.000&lt;/td&gt;\\n    &lt;/tr&gt;\\n    &lt;tr&gt;\\n      &lt;th&gt;37&lt;/th&gt;\\n      &lt;td&gt;Malawi&lt;/td&gt;\\n      &lt;td&gt;1905&lt;/td&gt;\\n      &lt;td&gt;0.000000&lt;/td&gt;\\n      &lt;td&gt;0.000&lt;/td&gt;\\n    &lt;/tr&gt;\\n    &lt;tr&gt;\\n      &lt;th&gt;38&lt;/th&gt;\\n      &lt;td&gt;Malaysia&lt;/td&gt;\\n      &lt;td&gt;1905&lt;/td&gt;\\n      &lt;td&gt;901.791819&lt;/td&gt;\\n      &lt;td&gt;0.040&lt;/td&gt;\\n    &lt;/tr&gt;\\n    &lt;tr&gt;\\n      &lt;th&gt;39&lt;/th&gt;\\n      &lt;td&gt;Mali&lt;/td&gt;\\n      &lt;td&gt;1905&lt;/td&gt;\\n      &lt;td&gt;0.000000&lt;/td&gt;\\n      &lt;td&gt;0.000&lt;/td&gt;\\n    &lt;/tr&gt;\\n    &lt;tr&gt;\\n      &lt;th&gt;40&lt;/th&gt;\\n      &lt;td&gt;Malta&lt;/td&gt;\\n      &lt;td&gt;1905&lt;/td&gt;\\n      &lt;td&gt;0.000000&lt;/td&gt;\\n      &lt;td&gt;0.000&lt;/td&gt;\\n    &lt;/tr&gt;\\n    &lt;tr&gt;\\n      &lt;th&gt;41&lt;/th&gt;\\n      &lt;td&gt;Martinique&lt;/td&gt;\\n      &lt;td&gt;1905&lt;/td&gt;\\n      &lt;td&gt;0.000000&lt;/td&gt;\\n      &lt;td&gt;0.000&lt;/td&gt;\\n    &lt;/tr&gt;\\n    &lt;tr&gt;\\n      &lt;th&gt;42&lt;/th&gt;\\n      &lt;td&gt;Mauritania&lt;/td&gt;\\n      &lt;td&gt;1905&lt;/td&gt;\\n      &lt;td&gt;0.000000&lt;/td&gt;\\n      &lt;td&gt;0.000&lt;/td&gt;\\n    &lt;/tr&gt;\\n    &lt;tr&gt;\\n      &lt;th&gt;43&lt;/th&gt;\\n      &lt;td&gt;Mauritius&lt;/td&gt;\\n      &lt;td&gt;1905&lt;/td&gt;\\n      &lt;td&gt;0.000000&lt;/td&gt;\\n      &lt;td&gt;0.000&lt;/td&gt;\\n    &lt;/tr&gt;\\n    &lt;tr&gt;\\n      &lt;th&gt;44&lt;/th&gt;\\n      &lt;td&gt;Mayotte&lt;/td&gt;\\n      &lt;td&gt;1905&lt;/td&gt;\\n      &lt;td&gt;0.000000&lt;/td&gt;\\n      &lt;td&gt;0.000&lt;/td&gt;\\n    &lt;/tr&gt;\\n    &lt;tr&gt;\\n      &lt;th&gt;45&lt;/th&gt;\\n      &lt;td&gt;Mexico&lt;/td&gt;\\n      &lt;td&gt;1905&lt;/td&gt;\\n      &lt;td&gt;2221.549987&lt;/td&gt;\\n      &lt;td&gt;1.707&lt;/td&gt;\\n    &lt;/tr&gt;\\n    &lt;tr&gt;\\n      &lt;th&gt;46&lt;/th&gt;\\n      &lt;td&gt;Middle East (GCP)&lt;/td&gt;\\n      &lt;td&gt;1905&lt;/td&gt;\\n      &lt;td&gt;0.000000&lt;/td&gt;\\n      &lt;td&gt;1.532&lt;/td&gt;\\n    &lt;/tr&gt;\\n    &lt;tr&gt;\\n      &lt;th&gt;47&lt;/th&gt;\\n      &lt;td&gt;Moldova&lt;/td&gt;\\n      &lt;td&gt;1905&lt;/td&gt;\\n      &lt;td&gt;0.000000&lt;/td&gt;\\n      &lt;td&gt;0.745&lt;/td&gt;\\n    &lt;/tr&gt;\\n    &lt;tr&gt;\\n      &lt;th&gt;48&lt;/th&gt;\\n      &lt;td&gt;Mongolia&lt;/td&gt;\\n      &lt;td&gt;1905&lt;/td&gt;\\n      &lt;td&gt;0.000000&lt;/td&gt;\\n      &lt;td&gt;0.000&lt;/td&gt;\\n    &lt;/tr&gt;\\n    &lt;tr&gt;\\n      &lt;th&gt;49&lt;/th&gt;\\n      &lt;td&gt;Montenegro&lt;/td&gt;\\n      &lt;td&gt;1905&lt;/td&gt;\\n      &lt;td&gt;0.000000&lt;/td&gt;\\n      &lt;td&gt;0.015&lt;/td&gt;\\n    &lt;/tr&gt;\\n    &lt;tr&gt;\\n      &lt;th&gt;...&lt;/th&gt;\\n      &lt;td&gt;...&lt;/td&gt;\\n      &lt;td&gt;...&lt;/td&gt;\\n      &lt;td&gt;...&lt;/td&gt;\\n      &lt;td&gt;...&lt;/td&gt;\\n    &lt;/tr&gt;\\n    &lt;tr&gt;\\n      &lt;th&gt;184&lt;/th&gt;\\n      &lt;td&gt;Hungary&lt;/td&gt;\\n      &lt;td&gt;1905&lt;/td&gt;\\n      &lt;td&gt;0.000000&lt;/td&gt;\\n      &lt;td&gt;9.431&lt;/td&gt;\\n    &lt;/tr&gt;\\n    &lt;tr&gt;\\n      &lt;th&gt;185&lt;/th&gt;\\n      &lt;td&gt;Iceland&lt;/td&gt;\\n      &lt;td&gt;1905&lt;/td&gt;\\n      &lt;td&gt;0.000000&lt;/td&gt;\\n      &lt;td&gt;0.000&lt;/td&gt;\\n    &lt;/tr&gt;\\n    &lt;tr&gt;\\n      &lt;th&gt;186&lt;/th&gt;\\n      &lt;td&gt;India&lt;/td&gt;\\n      &lt;td&gt;1905&lt;/td&gt;\\n      &lt;td&gt;999.431826&lt;/td&gt;\\n      &lt;td&gt;16.931&lt;/td&gt;\\n    &lt;/tr&gt;\\n    &lt;tr&gt;\\n      &lt;th&gt;187&lt;/th&gt;\\n      &lt;td&gt;Indonesia&lt;/td&gt;\\n      &lt;td&gt;1905&lt;/td&gt;\\n      &lt;td&gt;1336.633678&lt;/td&gt;\\n      &lt;td&gt;4.133&lt;/td&gt;\\n    &lt;/tr&gt;\\n    &lt;tr&gt;\\n      &lt;th&gt;188&lt;/th&gt;\\n      &lt;td&gt;Iran&lt;/td&gt;\\n      &lt;td&gt;1905&lt;/td&gt;\\n      &lt;td&gt;0.000000&lt;/td&gt;\\n      &lt;td&gt;0.000&lt;/td&gt;\\n    &lt;/tr&gt;\\n    &lt;tr&gt;\\n      &lt;th&gt;189&lt;/th&gt;\\n      &lt;td&gt;Iraq&lt;/td&gt;\\n      &lt;td&gt;1905&lt;/td&gt;\\n      &lt;td&gt;0.000000&lt;/td&gt;\\n      &lt;td&gt;0.000&lt;/td&gt;\\n    &lt;/tr&gt;\\n    &lt;tr&gt;\\n      &lt;th&gt;190&lt;/th&gt;\\n      &lt;td&gt;Ireland&lt;/td&gt;\\n      &lt;td&gt;1905&lt;/td&gt;\\n      &lt;td&gt;0.000000&lt;/td&gt;\\n      &lt;td&gt;0.000&lt;/td&gt;\\n    &lt;/tr&gt;\\n    &lt;tr&gt;\\n      &lt;th&gt;191&lt;/th&gt;\\n      &lt;td&gt;Isle of Man&lt;/td&gt;\\n      &lt;td&gt;1905&lt;/td&gt;\\n      &lt;td&gt;0.000000&lt;/td&gt;\\n      &lt;td&gt;0.000&lt;/td&gt;\\n    &lt;/tr&gt;\\n    &lt;tr&gt;\\n      &lt;th&gt;192&lt;/th&gt;\\n      &lt;td&gt;Israel&lt;/td&gt;\\n      &lt;td&gt;1905&lt;/td&gt;\\n      &lt;td&gt;0.000000&lt;/td&gt;\\n      &lt;td&gt;0.000&lt;/td&gt;\\n    &lt;/tr&gt;\\n    &lt;tr&gt;\\n      &lt;th&gt;193&lt;/th&gt;\\n      &lt;td&gt;Italy&lt;/td&gt;\\n      &lt;td&gt;1905&lt;/td&gt;\\n      &lt;td&gt;3555.631189&lt;/td&gt;\\n      &lt;td&gt;17.844&lt;/td&gt;\\n    &lt;/tr&gt;\\n    &lt;tr&gt;\\n      &lt;th&gt;194&lt;/th&gt;\\n      &lt;td&gt;Jamaica&lt;/td&gt;\\n      &lt;td&gt;1905&lt;/td&gt;\\n      &lt;td&gt;0.000000&lt;/td&gt;\\n      &lt;td&gt;0.000&lt;/td&gt;\\n    &lt;/tr&gt;\\n    &lt;tr&gt;\\n      &lt;th&gt;195&lt;/th&gt;\\n      &lt;td&gt;Japan&lt;/td&gt;\\n      &lt;td&gt;1905&lt;/td&gt;\\n      &lt;td&gt;2134.230272&lt;/td&gt;\\n      &lt;td&gt;29.931&lt;/td&gt;\\n    &lt;/tr&gt;\\n    &lt;tr&gt;\\n      &lt;th&gt;196&lt;/th&gt;\\n      &lt;td&gt;Jersey&lt;/td&gt;\\n      &lt;td&gt;1905&lt;/td&gt;\\n      &lt;td&gt;0.000000&lt;/td&gt;\\n      &lt;td&gt;0.000&lt;/td&gt;\\n    &lt;/tr&gt;\\n    &lt;tr&gt;\\n      &lt;th&gt;197&lt;/th&gt;\\n      &lt;td&gt;Jordan&lt;/td&gt;\\n      &lt;td&gt;1905&lt;/td&gt;\\n      &lt;td&gt;0.000000&lt;/td&gt;\\n      &lt;td&gt;0.000&lt;/td&gt;\\n    &lt;/tr&gt;\\n    &lt;tr&gt;\\n      &lt;th&gt;198&lt;/th&gt;\\n      &lt;td&gt;Kazakhstan&lt;/td&gt;\\n      &lt;td&gt;1905&lt;/td&gt;\\n      &lt;td&gt;0.000000&lt;/td&gt;\\n      &lt;td&gt;4.807&lt;/td&gt;\\n    &lt;/tr&gt;\\n    &lt;tr&gt;\\n      &lt;th&gt;199&lt;/th&gt;\\n      &lt;td&gt;Kenya&lt;/td&gt;\\n      &lt;td&gt;1905&lt;/td&gt;\\n      &lt;td&gt;0.000000&lt;/td&gt;\\n      &lt;td&gt;0.000&lt;/td&gt;\\n    &lt;/tr&gt;\\n    &lt;tr&gt;\\n      &lt;th&gt;200&lt;/th&gt;\\n      &lt;td&gt;Kuwait&lt;/td&gt;\\n      &lt;td&gt;1905&lt;/td&gt;\\n      &lt;td&gt;0.000000&lt;/td&gt;\\n      &lt;td&gt;0.000&lt;/td&gt;\\n    &lt;/tr&gt;\\n    &lt;tr&gt;\\n      &lt;th&gt;201&lt;/th&gt;\\n      &lt;td&gt;Kyrgyzstan&lt;/td&gt;\\n      &lt;td&gt;1905&lt;/td&gt;\\n      &lt;td&gt;0.000000&lt;/td&gt;\\n      &lt;td&gt;0.413&lt;/td&gt;\\n    &lt;/tr&gt;\\n    &lt;tr&gt;\\n      &lt;th&gt;202&lt;/th&gt;\\n      &lt;td&gt;Guernsey&lt;/td&gt;\\n      &lt;td&gt;1905&lt;/td&gt;\\n      &lt;td&gt;0.000000&lt;/td&gt;\\n      &lt;td&gt;0.000&lt;/td&gt;\\n    &lt;/tr&gt;\\n    &lt;tr&gt;\\n      &lt;th&gt;203&lt;/th&gt;\\n      &lt;td&gt;Guatemala&lt;/td&gt;\\n      &lt;td&gt;1905&lt;/td&gt;\\n      &lt;td&gt;0.000000&lt;/td&gt;\\n      &lt;td&gt;0.000&lt;/td&gt;\\n    &lt;/tr&gt;\\n    &lt;tr&gt;\\n      &lt;th&gt;204&lt;/th&gt;\\n      &lt;td&gt;Guadeloupe&lt;/td&gt;\\n      &lt;td&gt;1905&lt;/td&gt;\\n      &lt;td&gt;0.000000&lt;/td&gt;\\n      &lt;td&gt;0.000&lt;/td&gt;\\n    &lt;/tr&gt;\\n    &lt;tr&gt;\\n      &lt;th&gt;205&lt;/th&gt;\\n      &lt;td&gt;Grenada&lt;/td&gt;\\n      &lt;td&gt;1905&lt;/td&gt;\\n      &lt;td&gt;0.000000&lt;/td&gt;\\n      &lt;td&gt;0.000&lt;/td&gt;\\n    &lt;/tr&gt;\\n    &lt;tr&gt;\\n      &lt;th&gt;206&lt;/th&gt;\\n      &lt;td&gt;Egypt&lt;/td&gt;\\n      &lt;td&gt;1905&lt;/td&gt;\\n      &lt;td&gt;0.000000&lt;/td&gt;\\n      &lt;td&gt;0.000&lt;/td&gt;\\n    &lt;/tr&gt;\\n    &lt;tr&gt;\\n      &lt;th&gt;207&lt;/th&gt;\\n      &lt;td&gt;El Salvador&lt;/td&gt;\\n      &lt;td&gt;1905&lt;/td&gt;\\n      &lt;td&gt;0.000000&lt;/td&gt;\\n      &lt;td&gt;0.000&lt;/td&gt;\\n    &lt;/tr&gt;\\n    &lt;tr&gt;\\n      &lt;th&gt;208&lt;/th&gt;\\n      &lt;td&gt;Equatorial Guinea&lt;/td&gt;\\n      &lt;td&gt;1905&lt;/td&gt;\\n      &lt;td&gt;0.000000&lt;/td&gt;\\n      &lt;td&gt;0.000&lt;/td&gt;\\n    &lt;/tr&gt;\\n    &lt;tr&gt;\\n      &lt;th&gt;209&lt;/th&gt;\\n      &lt;td&gt;Eritrea&lt;/td&gt;\\n      &lt;td&gt;1905&lt;/td&gt;\\n      &lt;td&gt;0.000000&lt;/td&gt;\\n      &lt;td&gt;0.000&lt;/td&gt;\\n    &lt;/tr&gt;\\n    &lt;tr&gt;\\n      &lt;th&gt;210&lt;/th&gt;\\n      &lt;td&gt;Estonia&lt;/td&gt;\\n      &lt;td&gt;1905&lt;/td&gt;\\n      &lt;td&gt;0.000000&lt;/td&gt;\\n      &lt;td&gt;0.730&lt;/td&gt;\\n    &lt;/tr&gt;\\n    &lt;tr&gt;\\n      &lt;th&gt;211&lt;/th&gt;\\n      &lt;td&gt;Eswatini&lt;/td&gt;\\n      &lt;td&gt;1905&lt;/td&gt;\\n      &lt;td&gt;0.000000&lt;/td&gt;\\n      &lt;td&gt;0.000&lt;/td&gt;\\n    &lt;/tr&gt;\\n    &lt;tr&gt;\\n      &lt;th&gt;212&lt;/th&gt;\\n      &lt;td&gt;Ethiopia&lt;/td&gt;\\n      &lt;td&gt;1905&lt;/td&gt;\\n      &lt;td&gt;0.000000&lt;/td&gt;\\n      &lt;td&gt;0.000&lt;/td&gt;\\n    &lt;/tr&gt;\\n    &lt;tr&gt;\\n      &lt;th&gt;213&lt;/th&gt;\\n      &lt;td&gt;Europe (GCP)&lt;/td&gt;\\n      &lt;td&gt;1905&lt;/td&gt;\\n      &lt;td&gt;0.000000&lt;/td&gt;\\n      &lt;td&gt;1305.667&lt;/td&gt;\\n    &lt;/tr&gt;\\n    &lt;tr&gt;\\n      &lt;th&gt;214&lt;/th&gt;\\n      &lt;td&gt;Europe (excl. EU-27)&lt;/td&gt;\\n      &lt;td&gt;1905&lt;/td&gt;\\n      &lt;td&gt;0.000000&lt;/td&gt;\\n      &lt;td&gt;509.902&lt;/td&gt;\\n    &lt;/tr&gt;\\n    &lt;tr&gt;\\n      &lt;th&gt;215&lt;/th&gt;\\n      &lt;td&gt;Europe (excl. EU-28)&lt;/td&gt;\\n      &lt;td&gt;1905&lt;/td&gt;\\n      &lt;td&gt;0.000000&lt;/td&gt;\\n      &lt;td&gt;72.230&lt;/td&gt;\\n    &lt;/tr&gt;\\n    &lt;tr&gt;\\n      &lt;th&gt;216&lt;/th&gt;\\n      &lt;td&gt;European Union (27)&lt;/td&gt;\\n      &lt;td&gt;1905&lt;/td&gt;\\n      &lt;td&gt;0.000000&lt;/td&gt;\\n      &lt;td&gt;795.765&lt;/td&gt;\\n    &lt;/tr&gt;\\n    &lt;tr&gt;\\n      &lt;th&gt;217&lt;/th&gt;\\n      &lt;td&gt;European Union (27) (GCP)&lt;/td&gt;\\n      &lt;td&gt;1905&lt;/td&gt;\\n      &lt;td&gt;0.000000&lt;/td&gt;\\n      &lt;td&gt;795.765&lt;/td&gt;\\n    &lt;/tr&gt;\\n    &lt;tr&gt;\\n      &lt;th&gt;218&lt;/th&gt;\\n      &lt;td&gt;Dominican Republic&lt;/td&gt;\\n      &lt;td&gt;1905&lt;/td&gt;\\n      &lt;td&gt;0.000000&lt;/td&gt;\\n      &lt;td&gt;0.000&lt;/td&gt;\\n    &lt;/tr&gt;\\n    &lt;tr&gt;\\n      &lt;th&gt;219&lt;/th&gt;\\n      &lt;td&gt;European Union (28)&lt;/td&gt;\\n      &lt;td&gt;1905&lt;/td&gt;\\n      &lt;td&gt;0.000000&lt;/td&gt;\\n      &lt;td&gt;1233.437&lt;/td&gt;\\n    &lt;/tr&gt;\\n    &lt;tr&gt;\\n      &lt;th&gt;220&lt;/th&gt;\\n      &lt;td&gt;Falkland Islands&lt;/td&gt;\\n      &lt;td&gt;1905&lt;/td&gt;\\n      &lt;td&gt;0.000000&lt;/td&gt;\\n      &lt;td&gt;0.000&lt;/td&gt;\\n    &lt;/tr&gt;\\n    &lt;tr&gt;\\n      &lt;th&gt;221&lt;/th&gt;\\n      &lt;td&gt;Fiji&lt;/td&gt;\\n      &lt;td&gt;1905&lt;/td&gt;\\n      &lt;td&gt;0.000000&lt;/td&gt;\\n      &lt;td&gt;0.000&lt;/td&gt;\\n    &lt;/tr&gt;\\n    &lt;tr&gt;\\n      &lt;th&gt;222&lt;/th&gt;\\n      &lt;td&gt;Finland&lt;/td&gt;\\n      &lt;td&gt;1905&lt;/td&gt;\\n      &lt;td&gt;2757.979674&lt;/td&gt;\\n      &lt;td&gt;0.586&lt;/td&gt;\\n    &lt;/tr&gt;\\n    &lt;tr&gt;\\n      &lt;th&gt;223&lt;/th&gt;\\n      &lt;td&gt;France&lt;/td&gt;\\n      &lt;td&gt;1905&lt;/td&gt;\\n      &lt;td&gt;4685.264739&lt;/td&gt;\\n      &lt;td&gt;127.427&lt;/td&gt;\\n    &lt;/tr&gt;\\n    &lt;tr&gt;\\n      &lt;th&gt;224&lt;/th&gt;\\n      &lt;td&gt;French Guiana&lt;/td&gt;\\n      &lt;td&gt;1905&lt;/td&gt;\\n      &lt;td&gt;0.000000&lt;/td&gt;\\n      &lt;td&gt;0.000&lt;/td&gt;\\n    &lt;/tr&gt;\\n    &lt;tr&gt;\\n      &lt;th&gt;225&lt;/th&gt;\\n      &lt;td&gt;Gabon&lt;/td&gt;\\n      &lt;td&gt;1905&lt;/td&gt;\\n      &lt;td&gt;0.000000&lt;/td&gt;\\n      &lt;td&gt;0.000&lt;/td&gt;\\n    &lt;/tr&gt;\\n    &lt;tr&gt;\\n      &lt;th&gt;226&lt;/th&gt;\\n      &lt;td&gt;Gambia&lt;/td&gt;\\n      &lt;td&gt;1905&lt;/td&gt;\\n      &lt;td&gt;0.000000&lt;/td&gt;\\n      &lt;td&gt;0.000&lt;/td&gt;\\n    &lt;/tr&gt;\\n    &lt;tr&gt;\\n      &lt;th&gt;227&lt;/th&gt;\\n      &lt;td&gt;Georgia&lt;/td&gt;\\n      &lt;td&gt;1905&lt;/td&gt;\\n      &lt;td&gt;0.000000&lt;/td&gt;\\n      &lt;td&gt;0.297&lt;/td&gt;\\n    &lt;/tr&gt;\\n    &lt;tr&gt;\\n      &lt;th&gt;228&lt;/th&gt;\\n      &lt;td&gt;Germany&lt;/td&gt;\\n      &lt;td&gt;1905&lt;/td&gt;\\n      &lt;td&gt;4886.838208&lt;/td&gt;\\n      &lt;td&gt;382.324&lt;/td&gt;\\n    &lt;/tr&gt;\\n    &lt;tr&gt;\\n      &lt;th&gt;229&lt;/th&gt;\\n      &lt;td&gt;Ghana&lt;/td&gt;\\n      &lt;td&gt;1905&lt;/td&gt;\\n      &lt;td&gt;0.000000&lt;/td&gt;\\n      &lt;td&gt;0.000&lt;/td&gt;\\n    &lt;/tr&gt;\\n    &lt;tr&gt;\\n      &lt;th&gt;230&lt;/th&gt;\\n      &lt;td&gt;Greece&lt;/td&gt;\\n      &lt;td&gt;1905&lt;/td&gt;\\n      &lt;td&gt;2538.981993&lt;/td&gt;\\n      &lt;td&gt;0.278&lt;/td&gt;\\n    &lt;/tr&gt;\\n    &lt;tr&gt;\\n      &lt;th&gt;231&lt;/th&gt;\\n      &lt;td&gt;Greenland&lt;/td&gt;\\n      &lt;td&gt;1905&lt;/td&gt;\\n      &lt;td&gt;0.000000&lt;/td&gt;\\n      &lt;td&gt;0.000&lt;/td&gt;\\n    &lt;/tr&gt;\\n    &lt;tr&gt;\\n      &lt;th&gt;232&lt;/th&gt;\\n      &lt;td&gt;Faeroe Islands&lt;/td&gt;\\n      &lt;td&gt;1905&lt;/td&gt;\\n      &lt;td&gt;0.000000&lt;/td&gt;\\n      &lt;td&gt;0.000&lt;/td&gt;\\n    &lt;/tr&gt;\\n    &lt;tr&gt;\\n      &lt;th&gt;233&lt;/th&gt;\\n      &lt;td&gt;Zimbabwe&lt;/td&gt;\\n      &lt;td&gt;1905&lt;/td&gt;\\n      &lt;td&gt;0.000000&lt;/td&gt;\\n      &lt;td&gt;0.234&lt;/td&gt;\\n    &lt;/tr&gt;\\n  &lt;/tbody&gt;\\n&lt;/table&gt;\"},\"id\":\"8818\",\"type\":\"panel.models.markup.HTML\"},{\"attributes\":{\"client_comm_id\":\"63790822f34a437da2e55eed00524331\",\"comm_id\":\"7033a97edf514177b0e664fccb338471\",\"plot_id\":\"8811\"},\"id\":\"8819\",\"type\":\"panel.models.comm_manager.CommManager\"},{\"attributes\":{\"children\":[{\"id\":\"8813\"},{\"id\":\"8817\"}],\"margin\":[0,0,0,0],\"name\":\"Column37301\"},\"id\":\"8812\",\"type\":\"Column\"},{\"attributes\":{\"children\":[{\"id\":\"8815\"}],\"margin\":[0,0,0,0],\"name\":\"Column37291\"},\"id\":\"8814\",\"type\":\"Column\"}],\"root_ids\":[\"8811\",\"8819\"]},\"title\":\"Bokeh Application\",\"version\":\"2.4.3\"}};\n",
       "    var render_items = [{\"docid\":\"9440fe9d-36ed-43e6-b171-0a307ff810c6\",\"root_ids\":[\"8811\"],\"roots\":{\"8811\":\"d3ef4d67-f238-42e3-91e9-a9da72844e60\"}}];\n",
       "    root.Bokeh.embed.embed_items_notebook(docs_json, render_items);\n",
       "    for (const render_item of render_items) {\n",
       "      for (const root_id of render_item.root_ids) {\n",
       "\tconst id_el = document.getElementById(root_id)\n",
       "\tif (id_el.children.length && (id_el.children[0].className === 'bk-root')) {\n",
       "\t  const root_el = id_el.children[0]\n",
       "\t  root_el.id = root_el.id + '-rendered'\n",
       "\t}\n",
       "      }\n",
       "    }\n",
       "  }\n",
       "  if (root.Bokeh !== undefined && root.Bokeh.Panel !== undefined && ( root['Tabulator'] !== undefined)) {\n",
       "    embed_document(root);\n",
       "  } else {\n",
       "    var attempts = 0;\n",
       "    var timer = setInterval(function(root) {\n",
       "      if (root.Bokeh !== undefined && root.Bokeh.Panel !== undefined && (root['Tabulator'] !== undefined)) {\n",
       "        clearInterval(timer);\n",
       "        embed_document(root);\n",
       "      } else if (document.readyState == \"complete\") {\n",
       "        attempts++;\n",
       "        if (attempts > 200) {\n",
       "          clearInterval(timer);\n",
       "          console.log(\"Bokeh: ERROR: Unable to run BokehJS code because BokehJS library is missing\");\n",
       "        }\n",
       "      }\n",
       "    }, 25, root)\n",
       "  }\n",
       "})(window);</script>"
      ],
      "text/plain": [
       "<hvplot.interactive.Interactive at 0x12ea50c8250>"
      ]
     },
     "execution_count": 64,
     "metadata": {
      "application/vnd.holoviews_exec.v0+json": {
       "id": "8811"
      }
     },
     "output_type": "execute_result"
    }
   ],
   "source": [
    "co2_vs_gdp_scatterplot_pipeline = (\n",
    "    idf[\n",
    "        (idf.year == year_slider) &\n",
    "        (~ (idf.country.isin(continents)))\n",
    "    ]\n",
    "    .groupby(['country', 'year', 'gdp_per_capita'])['co2'].mean()\n",
    "    .to_frame()\n",
    "    .reset_index()\n",
    "    .sort_values(by='year')  \n",
    "    .reset_index(drop=True)\n",
    ")\n",
    "\n",
    "co2_vs_gdp_scatterplot_pipeline"
   ]
  },
  {
   "cell_type": "code",
   "execution_count": null,
   "id": "86d2ba30-0e70-4810-9d43-1eeeef725fe5",
   "metadata": {
    "tags": []
   },
   "outputs": [],
   "source": [
    "co2_vs_gdp_scatterplot = co2_vs_gdp_scatterplot_pipeline.hvplot(x='gdp_per_capita', \n",
    "                                                                y='co2', \n",
    "                                                                by='country', \n",
    "                                                                size=80, kind=\"scatter\", \n",
    "                                                                alpha=0.7,\n",
    "                                                                legend=False, \n",
    "                                                                height=500, \n",
    "                                                                width=500)\n",
    "co2_vs_gdp_scatterplot"
   ]
  },
  {
   "cell_type": "code",
   "execution_count": 80,
   "id": "cb1d9a38-8497-4473-87a2-829edc98e91b",
   "metadata": {
    "tags": []
   },
   "outputs": [],
   "source": [
    "\n",
    "yaxis_co2_source = pn.widgets.RadioButtonGroup(\n",
    "    name='Y axis', \n",
    "    options=['coal_co2', 'oil_co2', 'gas_co2'], \n",
    "    button_type='primary'\n",
    ")\n",
    "\n",
    "continents_excl_world = ['Asia', 'Oceania', 'Europe', 'Africa', 'North America', 'South America', 'Antarctica']\n",
    "\n",
    "co2_source_bar_pipeline = (\n",
    "    idf[\n",
    "        (idf.year == year_slider) &\n",
    "        (idf.country.isin(continents_excl_world))\n",
    "    ]\n",
    "    .groupby(['year', 'country'])[yaxis_co2_source].sum()\n",
    "    .to_frame()\n",
    "    .reset_index()\n",
    "    .sort_values(by='year')  \n",
    "    .reset_index(drop=True)\n",
    ")"
   ]
  },
  {
   "cell_type": "code",
   "execution_count": 84,
   "id": "2065043d-9e79-4d16-a44d-c7ad6befcbd7",
   "metadata": {
    "tags": []
   },
   "outputs": [
    {
     "data": {},
     "metadata": {},
     "output_type": "display_data"
    },
    {
     "data": {},
     "metadata": {},
     "output_type": "display_data"
    },
    {
     "data": {
      "application/vnd.holoviews_exec.v0+json": "",
      "text/html": [
       "<div id='198593'>\n",
       "  <div class=\"bk-root\" id=\"e5109d36-aff1-4f76-b024-9742dc5a0ce5\" data-root-id=\"198593\"></div>\n",
       "</div>\n",
       "<script type=\"application/javascript\">(function(root) {\n",
       "  function embed_document(root) {\n",
       "    var docs_json = {\"430437a1-73b9-468f-bf80-5ba4fa5bd362\":{\"defs\":[{\"extends\":null,\"module\":null,\"name\":\"ReactiveHTML1\",\"overrides\":[],\"properties\":[]},{\"extends\":null,\"module\":null,\"name\":\"FlexBox1\",\"overrides\":[],\"properties\":[{\"default\":\"flex-start\",\"kind\":null,\"name\":\"align_content\"},{\"default\":\"flex-start\",\"kind\":null,\"name\":\"align_items\"},{\"default\":\"row\",\"kind\":null,\"name\":\"flex_direction\"},{\"default\":\"wrap\",\"kind\":null,\"name\":\"flex_wrap\"},{\"default\":\"flex-start\",\"kind\":null,\"name\":\"justify_content\"}]},{\"extends\":null,\"module\":null,\"name\":\"GridStack1\",\"overrides\":[],\"properties\":[{\"default\":\"warn\",\"kind\":null,\"name\":\"mode\"},{\"default\":null,\"kind\":null,\"name\":\"ncols\"},{\"default\":null,\"kind\":null,\"name\":\"nrows\"},{\"default\":true,\"kind\":null,\"name\":\"allow_resize\"},{\"default\":true,\"kind\":null,\"name\":\"allow_drag\"},{\"default\":[],\"kind\":null,\"name\":\"state\"}]},{\"extends\":null,\"module\":null,\"name\":\"click1\",\"overrides\":[],\"properties\":[{\"default\":\"\",\"kind\":null,\"name\":\"terminal_output\"},{\"default\":\"\",\"kind\":null,\"name\":\"debug_name\"},{\"default\":0,\"kind\":null,\"name\":\"clears\"}]},{\"extends\":null,\"module\":null,\"name\":\"NotificationAreaBase1\",\"overrides\":[],\"properties\":[{\"default\":\"bottom-right\",\"kind\":null,\"name\":\"position\"},{\"default\":0,\"kind\":null,\"name\":\"_clear\"}]},{\"extends\":null,\"module\":null,\"name\":\"NotificationArea1\",\"overrides\":[],\"properties\":[{\"default\":[],\"kind\":null,\"name\":\"notifications\"},{\"default\":\"bottom-right\",\"kind\":null,\"name\":\"position\"},{\"default\":0,\"kind\":null,\"name\":\"_clear\"},{\"default\":[{\"background\":\"#ffc107\",\"icon\":{\"className\":\"fas fa-exclamation-triangle\",\"color\":\"white\",\"tagName\":\"i\"},\"type\":\"warning\"},{\"background\":\"#007bff\",\"icon\":{\"className\":\"fas fa-info-circle\",\"color\":\"white\",\"tagName\":\"i\"},\"type\":\"info\"}],\"kind\":null,\"name\":\"types\"}]},{\"extends\":null,\"module\":null,\"name\":\"Notification\",\"overrides\":[],\"properties\":[{\"default\":null,\"kind\":null,\"name\":\"background\"},{\"default\":3000,\"kind\":null,\"name\":\"duration\"},{\"default\":null,\"kind\":null,\"name\":\"icon\"},{\"default\":\"\",\"kind\":null,\"name\":\"message\"},{\"default\":null,\"kind\":null,\"name\":\"notification_type\"},{\"default\":false,\"kind\":null,\"name\":\"_destroyed\"}]},{\"extends\":null,\"module\":null,\"name\":\"TemplateActions1\",\"overrides\":[],\"properties\":[{\"default\":0,\"kind\":null,\"name\":\"open_modal\"},{\"default\":0,\"kind\":null,\"name\":\"close_modal\"}]},{\"extends\":null,\"module\":null,\"name\":\"MaterialTemplateActions1\",\"overrides\":[],\"properties\":[{\"default\":0,\"kind\":null,\"name\":\"open_modal\"},{\"default\":0,\"kind\":null,\"name\":\"close_modal\"}]}],\"roots\":{\"references\":[{\"attributes\":{\"data\":{\"country\":[\"Africa\",\"Asia\",\"Europe\",\"North America\",\"Oceania\",\"South America\"],\"gas_co2\":{\"__ndarray__\":\"AAAAAAAAAACiRbbz/dTwP4XrUbgehQ5AfT81Xrq5WEAAAAAAAAAAAHWTGARWDt0/\",\"dtype\":\"float64\",\"order\":\"little\",\"shape\":[6]}},\"selected\":{\"id\":\"198633\"},\"selection_policy\":{\"id\":\"198658\"}},\"id\":\"198632\",\"type\":\"ColumnDataSource\"},{\"attributes\":{},\"id\":\"198613\",\"type\":\"CategoricalTicker\"},{\"attributes\":{\"margin\":[5,5,5,5],\"name\":\"HSpacer97801\",\"sizing_mode\":\"stretch_width\"},\"id\":\"198599\",\"type\":\"Spacer\"},{\"attributes\":{\"bottom\":{\"value\":0},\"fill_alpha\":{\"value\":1.0},\"fill_color\":{\"value\":\"#30a2da\"},\"hatch_alpha\":{\"value\":1.0},\"hatch_color\":{\"value\":\"#30a2da\"},\"hatch_scale\":{\"value\":12.0},\"hatch_weight\":{\"value\":1.0},\"line_alpha\":{\"value\":1.0},\"line_cap\":{\"value\":\"butt\"},\"line_color\":{\"value\":\"black\"},\"line_dash\":{\"value\":[]},\"line_dash_offset\":{\"value\":0},\"line_join\":{\"value\":\"bevel\"},\"line_width\":{\"value\":1},\"top\":{\"field\":\"gas_co2\"},\"width\":{\"value\":0.8},\"x\":{\"field\":\"country\"}},\"id\":\"198640\",\"type\":\"VBar\"},{\"attributes\":{},\"id\":\"198621\",\"type\":\"WheelZoomTool\"},{\"attributes\":{\"end\":2021,\"margin\":[5,10,5,10],\"start\":1750,\"step\":5,\"title\":\"Years\",\"value\":1930},\"id\":\"198597\",\"type\":\"Slider\"},{\"attributes\":{\"fill_alpha\":{\"value\":0.2},\"fill_color\":{\"value\":\"#30a2da\"},\"hatch_alpha\":{\"value\":0.2},\"hatch_color\":{\"value\":\"#30a2da\"},\"line_alpha\":{\"value\":0.2},\"top\":{\"field\":\"gas_co2\"},\"width\":{\"value\":0.8},\"x\":{\"field\":\"country\"}},\"id\":\"198637\",\"type\":\"VBar\"},{\"attributes\":{},\"id\":\"198623\",\"type\":\"ResetTool\"},{\"attributes\":{\"end\":108.79220000000001,\"reset_end\":108.79220000000001,\"reset_start\":0.0,\"tags\":[[[\"gas_co2\",\"gas_co2\",null]]]},\"id\":\"198601\",\"type\":\"Range1d\"},{\"attributes\":{\"children\":[{\"id\":\"198597\"},{\"id\":\"198598\"}],\"margin\":[0,0,0,0],\"name\":\"Column97797\"},\"id\":\"198596\",\"type\":\"Column\"},{\"attributes\":{\"coordinates\":null,\"data_source\":{\"id\":\"198632\"},\"glyph\":{\"id\":\"198635\"},\"group\":null,\"hover_glyph\":null,\"muted_glyph\":{\"id\":\"198637\"},\"nonselection_glyph\":{\"id\":\"198636\"},\"selection_glyph\":{\"id\":\"198640\"},\"view\":{\"id\":\"198639\"}},\"id\":\"198638\",\"type\":\"GlyphRenderer\"},{\"attributes\":{\"axis_label\":\"country\",\"coordinates\":null,\"formatter\":{\"id\":\"198642\"},\"group\":null,\"major_label_policy\":{\"id\":\"198643\"},\"ticker\":{\"id\":\"198613\"}},\"id\":\"198612\",\"type\":\"CategoricalAxis\"},{\"attributes\":{\"active\":2,\"button_type\":\"primary\",\"labels\":[\"coal_co2\",\"oil_co2\",\"gas_co2\"],\"margin\":[5,10,5,10]},\"id\":\"198598\",\"type\":\"RadioButtonGroup\"},{\"attributes\":{},\"id\":\"198608\",\"type\":\"CategoricalScale\"},{\"attributes\":{\"client_comm_id\":\"f45edbc8af87414885abe96932f22c30\",\"comm_id\":\"ba837c0da87442589df13558f701f250\",\"plot_id\":\"198593\"},\"id\":\"198691\",\"type\":\"panel.models.comm_manager.CommManager\"},{\"attributes\":{\"children\":[{\"id\":\"198594\"}],\"margin\":[0,0,0,0],\"name\":\"Row97809\"},\"id\":\"198593\",\"type\":\"Row\"},{\"attributes\":{\"fill_color\":{\"value\":\"#30a2da\"},\"hatch_color\":{\"value\":\"#30a2da\"},\"top\":{\"field\":\"gas_co2\"},\"width\":{\"value\":0.8},\"x\":{\"field\":\"country\"}},\"id\":\"198635\",\"type\":\"VBar\"},{\"attributes\":{\"axis_label\":\"gas_co2\",\"coordinates\":null,\"formatter\":{\"id\":\"198645\"},\"group\":null,\"major_label_policy\":{\"id\":\"198646\"},\"ticker\":{\"id\":\"198616\"}},\"id\":\"198615\",\"type\":\"LinearAxis\"},{\"attributes\":{},\"id\":\"198633\",\"type\":\"Selection\"},{\"attributes\":{\"children\":[{\"id\":\"198595\"},{\"id\":\"198603\"}],\"margin\":[0,0,0,0],\"name\":\"Column97808\"},\"id\":\"198594\",\"type\":\"Column\"},{\"attributes\":{\"axis\":{\"id\":\"198615\"},\"coordinates\":null,\"dimension\":1,\"grid_line_color\":null,\"group\":null,\"ticker\":null},\"id\":\"198618\",\"type\":\"Grid\"},{\"attributes\":{},\"id\":\"198643\",\"type\":\"AllLabels\"},{\"attributes\":{},\"id\":\"198658\",\"type\":\"UnionRenderers\"},{\"attributes\":{\"coordinates\":null,\"group\":null,\"text\":\"CO2 source by continent\",\"text_color\":\"black\",\"text_font_size\":\"12pt\"},\"id\":\"198604\",\"type\":\"Title\"},{\"attributes\":{},\"id\":\"198646\",\"type\":\"AllLabels\"},{\"attributes\":{\"bottom_units\":\"screen\",\"coordinates\":null,\"fill_alpha\":0.5,\"fill_color\":\"lightgrey\",\"group\":null,\"left_units\":\"screen\",\"level\":\"overlay\",\"line_alpha\":1.0,\"line_color\":\"black\",\"line_dash\":[4,4],\"line_width\":2,\"right_units\":\"screen\",\"syncable\":false,\"top_units\":\"screen\"},\"id\":\"198624\",\"type\":\"BoxAnnotation\"},{\"attributes\":{\"active_drag\":{\"id\":\"198620\"},\"active_scroll\":{\"id\":\"198621\"},\"tools\":[{\"id\":\"198602\"},{\"id\":\"198619\"},{\"id\":\"198620\"},{\"id\":\"198621\"},{\"id\":\"198622\"},{\"id\":\"198623\"}]},\"id\":\"198625\",\"type\":\"Toolbar\"},{\"attributes\":{\"source\":{\"id\":\"198632\"}},\"id\":\"198639\",\"type\":\"CDSView\"},{\"attributes\":{},\"id\":\"198619\",\"type\":\"SaveTool\"},{\"attributes\":{\"fill_alpha\":{\"value\":0.1},\"fill_color\":{\"value\":\"#30a2da\"},\"hatch_alpha\":{\"value\":0.1},\"hatch_color\":{\"value\":\"#30a2da\"},\"line_alpha\":{\"value\":0.1},\"top\":{\"field\":\"gas_co2\"},\"width\":{\"value\":0.8},\"x\":{\"field\":\"country\"}},\"id\":\"198636\",\"type\":\"VBar\"},{\"attributes\":{\"overlay\":{\"id\":\"198624\"}},\"id\":\"198622\",\"type\":\"BoxZoomTool\"},{\"attributes\":{},\"id\":\"198620\",\"type\":\"PanTool\"},{\"attributes\":{\"callback\":null,\"renderers\":[{\"id\":\"198638\"}],\"tags\":[\"hv_created\"],\"tooltips\":[[\"country\",\"@{country}\"],[\"gas_co2\",\"@{gas_co2}\"]]},\"id\":\"198602\",\"type\":\"HoverTool\"},{\"attributes\":{},\"id\":\"198645\",\"type\":\"BasicTickFormatter\"},{\"attributes\":{\"below\":[{\"id\":\"198612\"}],\"center\":[{\"id\":\"198614\"},{\"id\":\"198618\"}],\"height\":300,\"left\":[{\"id\":\"198615\"}],\"margin\":[5,5,5,5],\"min_border_bottom\":10,\"min_border_left\":10,\"min_border_right\":10,\"min_border_top\":10,\"renderers\":[{\"id\":\"198638\"}],\"sizing_mode\":\"fixed\",\"title\":{\"id\":\"198604\"},\"toolbar\":{\"id\":\"198625\"},\"width\":700,\"x_range\":{\"id\":\"198600\"},\"x_scale\":{\"id\":\"198608\"},\"y_range\":{\"id\":\"198601\"},\"y_scale\":{\"id\":\"198610\"}},\"id\":\"198603\",\"subtype\":\"Figure\",\"type\":\"Plot\"},{\"attributes\":{\"factors\":[\"Africa\",\"Asia\",\"Europe\",\"North America\",\"Oceania\",\"South America\"],\"tags\":[[[\"country\",\"country\",null]]]},\"id\":\"198600\",\"type\":\"FactorRange\"},{\"attributes\":{\"axis\":{\"id\":\"198612\"},\"coordinates\":null,\"grid_line_color\":null,\"group\":null,\"ticker\":null},\"id\":\"198614\",\"type\":\"Grid\"},{\"attributes\":{},\"id\":\"198642\",\"type\":\"CategoricalTickFormatter\"},{\"attributes\":{},\"id\":\"198616\",\"type\":\"BasicTicker\"},{\"attributes\":{\"children\":[{\"id\":\"198596\"},{\"id\":\"198599\"}],\"margin\":[0,0,0,0],\"name\":\"Row97802\"},\"id\":\"198595\",\"type\":\"Row\"},{\"attributes\":{},\"id\":\"198610\",\"type\":\"LinearScale\"}],\"root_ids\":[\"198593\",\"198691\"]},\"title\":\"Bokeh Application\",\"version\":\"2.4.3\"}};\n",
       "    var render_items = [{\"docid\":\"430437a1-73b9-468f-bf80-5ba4fa5bd362\",\"root_ids\":[\"198593\"],\"roots\":{\"198593\":\"e5109d36-aff1-4f76-b024-9742dc5a0ce5\"}}];\n",
       "    root.Bokeh.embed.embed_items_notebook(docs_json, render_items);\n",
       "    for (const render_item of render_items) {\n",
       "      for (const root_id of render_item.root_ids) {\n",
       "\tconst id_el = document.getElementById(root_id)\n",
       "\tif (id_el.children.length && (id_el.children[0].className === 'bk-root')) {\n",
       "\t  const root_el = id_el.children[0]\n",
       "\t  root_el.id = root_el.id + '-rendered'\n",
       "\t}\n",
       "      }\n",
       "    }\n",
       "  }\n",
       "  if (root.Bokeh !== undefined && root.Bokeh.Panel !== undefined && ( root['Tabulator'] !== undefined)) {\n",
       "    embed_document(root);\n",
       "  } else {\n",
       "    var attempts = 0;\n",
       "    var timer = setInterval(function(root) {\n",
       "      if (root.Bokeh !== undefined && root.Bokeh.Panel !== undefined && (root['Tabulator'] !== undefined)) {\n",
       "        clearInterval(timer);\n",
       "        embed_document(root);\n",
       "      } else if (document.readyState == \"complete\") {\n",
       "        attempts++;\n",
       "        if (attempts > 200) {\n",
       "          clearInterval(timer);\n",
       "          console.log(\"Bokeh: ERROR: Unable to run BokehJS code because BokehJS library is missing\");\n",
       "        }\n",
       "      }\n",
       "    }, 25, root)\n",
       "  }\n",
       "})(window);</script>"
      ],
      "text/plain": [
       "<hvplot.interactive.Interactive at 0x12ea7322af0>"
      ]
     },
     "execution_count": 84,
     "metadata": {
      "application/vnd.holoviews_exec.v0+json": {
       "id": "198593"
      }
     },
     "output_type": "execute_result"
    }
   ],
   "source": [
    "co2_source_bar_plot = co2_source_bar_pipeline.hvplot(kind='bar', \n",
    "                                                     x='country', \n",
    "                                                     y=yaxis_co2_source, \n",
    "                                                     title='CO2 source by continent')\n",
    "co2_source_bar_plot"
   ]
  },
  {
   "cell_type": "code",
   "execution_count": 87,
   "id": "8b9d5bd7-27e5-4254-9b9f-4f504acd2443",
   "metadata": {
    "tags": []
   },
   "outputs": [
    {
     "name": "stdout",
     "output_type": "stream",
     "text": [
      "Launching server at http://localhost:57684\n"
     ]
    },
    {
     "data": {
      "text/plain": [
       "<panel.io.server.Server at 0x12ea9605370>"
      ]
     },
     "execution_count": 87,
     "metadata": {},
     "output_type": "execute_result"
    },
    {
     "name": "stderr",
     "output_type": "stream",
     "text": [
      "WARNING:bokeh.core.validation.check:W-1005 (FIXED_SIZING_MODE): 'fixed' sizing mode requires width and height to be set: Row(id='208716', ...)\n",
      "WARNING:bokeh.core.validation.check:W-1005 (FIXED_SIZING_MODE): 'fixed' sizing mode requires width and height to be set: Row(id='209047', ...)\n",
      "WARNING:bokeh.core.validation.check:W-1005 (FIXED_SIZING_MODE): 'fixed' sizing mode requires width and height to be set: Row(id='211920', ...)\n"
     ]
    }
   ],
   "source": [
    "#Layout using Template\n",
    "template = pn.template.FastListTemplate(\n",
    "    title='World CO2 emission dashboard', \n",
    "    sidebar=[pn.pane.Markdown(\"# CO2 Emissions and Climate Change\"), \n",
    "             pn.pane.Markdown(\"#### Carbon dioxide emissions are the primary driver of global climate change. It’s widely recognised that to avoid the worst impacts of climate change, the world needs to urgently reduce emissions. But, how this responsibility is shared between regions, countries, and individuals has been an endless point of contention in international discussions.\"), \n",
    "              pn.pane.JPG('images (1).jpg', sizing_mode='scale_both'),\n",
    "             pn.pane.Markdown(\"## Settings\"),   \n",
    "             year_slider],\n",
    "    main=[pn.Row(pn.Column(yaxis_co2, \n",
    "                           co2_plot.panel(width=500), margin=(0,25)), \n",
    "                 co2_table.panel(width=500)), \n",
    "          pn.Row(pn.Column(co2_vs_gdp_scatterplot.panel(width=500), margin=(0,25)), \n",
    "                 pn.Column(yaxis_co2_source, co2_source_bar_plot.panel(width=500)))],\n",
    "    accent_base_color=\"#88d8b0\",\n",
    "    header_background=\"#88d8b0\",\n",
    ")\n",
    "template.show()"
   ]
  },
  {
   "cell_type": "code",
   "execution_count": null,
   "id": "f11379ad-9f03-441d-9859-70655c262072",
   "metadata": {},
   "outputs": [],
   "source": []
  }
 ],
 "metadata": {
  "kernelspec": {
   "display_name": "Python 3 (ipykernel)",
   "language": "python",
   "name": "python3"
  },
  "language_info": {
   "codemirror_mode": {
    "name": "ipython",
    "version": 3
   },
   "file_extension": ".py",
   "mimetype": "text/x-python",
   "name": "python",
   "nbconvert_exporter": "python",
   "pygments_lexer": "ipython3",
   "version": "3.9.13"
  }
 },
 "nbformat": 4,
 "nbformat_minor": 5
}
